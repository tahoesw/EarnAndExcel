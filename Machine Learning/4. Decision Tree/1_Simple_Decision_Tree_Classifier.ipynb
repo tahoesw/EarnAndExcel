{
  "nbformat": 4,
  "nbformat_minor": 0,
  "metadata": {
    "colab": {
      "name": "1. Simple Decision Tree Classifier.ipynb",
      "provenance": [],
      "collapsed_sections": []
    },
    "kernelspec": {
      "name": "python3",
      "display_name": "Python 3"
    },
    "language_info": {
      "name": "python"
    }
  },
  "cells": [
    {
      "cell_type": "code",
      "execution_count": 1,
      "metadata": {
        "id": "VzU7zerEKk6H"
      },
      "outputs": [],
      "source": [
        "import numpy as np\n",
        "import pandas as pd\n",
        "import matplotlib.pyplot as plt\n",
        "import sklearn.model_selection as ms\n",
        "from sklearn.model_selection import train_test_split, StratifiedKFold, RandomizedSearchCV, GridSearchCV\n",
        "from sklearn import tree\n",
        "from sklearn import datasets\n",
        "from sklearn import linear_model\n",
        "from sklearn.linear_model import LogisticRegression\n",
        "from datetime import datetime\n",
        "from xgboost import XGBClassifier\n",
        "import warnings\n",
        "warnings.filterwarnings(\"ignore\")"
      ]
    },
    {
      "cell_type": "markdown",
      "source": [
        "**Read and clean data**"
      ],
      "metadata": {
        "id": "XQ0rM_TmPUl9"
      }
    },
    {
      "cell_type": "code",
      "source": [
        "df = pd.read_csv(\"titanic.csv\").dropna()\n",
        "\n",
        "X = df.drop([\"Name\", \"Survived\", \"Sex\"], axis = 1)\n",
        "\n",
        "# Transform 1st, 2nd, 3rd to 1, 2, 3\n",
        "X['PClass'] = pd.factorize(X['PClass'])[0] + 1\n",
        "\n",
        "y = df.Survived"
      ],
      "metadata": {
        "id": "7-BQ6JeRMR2m"
      },
      "execution_count": 2,
      "outputs": []
    },
    {
      "cell_type": "markdown",
      "source": [
        "**Split into train/test** "
      ],
      "metadata": {
        "id": "Q8nxy6HbPaBn"
      }
    },
    {
      "cell_type": "code",
      "source": [
        "X_train, X_test, y_train, y_test = train_test_split(X, y, test_size=0.2, random_state=0)\n"
      ],
      "metadata": {
        "id": "lOaqiNeyOwxU"
      },
      "execution_count": 3,
      "outputs": []
    },
    {
      "cell_type": "markdown",
      "source": [
        "**Define model type and fit**"
      ],
      "metadata": {
        "id": "VysONkDrPuD_"
      }
    },
    {
      "cell_type": "code",
      "source": [
        "tree_model = tree.DecisionTreeClassifier()\n",
        "\n",
        "tree_model.fit(X_train, y_train)"
      ],
      "metadata": {
        "colab": {
          "base_uri": "https://localhost:8080/"
        },
        "id": "e_Fa-o95P0mu",
        "outputId": "fe1c41c5-32c4-4475-a5f4-d1ea2c43b88b"
      },
      "execution_count": 4,
      "outputs": [
        {
          "output_type": "execute_result",
          "data": {
            "text/plain": [
              "DecisionTreeClassifier()"
            ]
          },
          "metadata": {},
          "execution_count": 4
        }
      ]
    },
    {
      "cell_type": "markdown",
      "source": [
        "**Scoring**"
      ],
      "metadata": {
        "id": "T2PXZQAkRJ6g"
      }
    },
    {
      "cell_type": "code",
      "source": [
        "train_score = tree_model.score(X_train, y_train)\n",
        "train_error = 1 - train_score\n",
        "\n",
        "print(\"Score on data used in training =\", train_score, \"==>error =\", train_error)"
      ],
      "metadata": {
        "colab": {
          "base_uri": "https://localhost:8080/"
        },
        "id": "BmoYWVy_RQYk",
        "outputId": "9ca340af-075e-4a76-da81-32ea200b0568"
      },
      "execution_count": 5,
      "outputs": [
        {
          "output_type": "stream",
          "name": "stdout",
          "text": [
            "Score on data used in training = 0.8758278145695364 ==>error = 0.1241721854304636\n"
          ]
        }
      ]
    },
    {
      "cell_type": "code",
      "source": [
        "test_score = tree_model.score(X_test, y_test)\n",
        "test_error = 1 - test_score\n",
        "\n",
        "print(\"Score on test (unseen) data =\", test_score, \"==>error =\", test_error)"
      ],
      "metadata": {
        "colab": {
          "base_uri": "https://localhost:8080/"
        },
        "id": "_p1LTeqeRktg",
        "outputId": "bc781a6b-e6a3-4665-8884-55e4b872ddab"
      },
      "execution_count": 6,
      "outputs": [
        {
          "output_type": "stream",
          "name": "stdout",
          "text": [
            "Score on test (unseen) data = 0.7763157894736842 ==>error = 0.22368421052631582\n"
          ]
        }
      ]
    }
  ]
}