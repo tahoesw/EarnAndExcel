{
  "nbformat": 4,
  "nbformat_minor": 0,
  "metadata": {
    "colab": {
      "name": "2. Decision Tree Classifier with Hyperparameter Tuning.ipynb",
      "provenance": [],
      "collapsed_sections": []
    },
    "kernelspec": {
      "name": "python3",
      "display_name": "Python 3"
    },
    "language_info": {
      "name": "python"
    }
  },
  "cells": [
    {
      "cell_type": "code",
      "execution_count": 17,
      "metadata": {
        "id": "VzU7zerEKk6H"
      },
      "outputs": [],
      "source": [
        "import numpy as np\n",
        "import pandas as pd\n",
        "import matplotlib.pyplot as plt\n",
        "import sklearn.model_selection as ms\n",
        "from sklearn.model_selection import train_test_split, StratifiedKFold, RandomizedSearchCV, GridSearchCV\n",
        "from sklearn import tree\n",
        "from sklearn import datasets\n",
        "from sklearn import linear_model\n",
        "from sklearn.linear_model import LogisticRegression\n",
        "from datetime import datetime\n",
        "from xgboost import XGBClassifier\n",
        "import warnings\n",
        "warnings.filterwarnings(\"ignore\")"
      ]
    },
    {
      "cell_type": "markdown",
      "source": [
        "**Read and clean data**"
      ],
      "metadata": {
        "id": "XQ0rM_TmPUl9"
      }
    },
    {
      "cell_type": "code",
      "source": [
        "df = pd.read_csv(\"titanic.csv\").dropna()\n",
        "\n",
        "X = df.drop([\"Name\", \"Survived\", \"Sex\"], axis = 1)\n",
        "\n",
        "# Transform 1st, 2nd, 3rd to 1, 2, 3\n",
        "X['PClass'] = pd.factorize(X['PClass'])[0] + 1\n",
        "\n",
        "y = df.Survived"
      ],
      "metadata": {
        "id": "7-BQ6JeRMR2m"
      },
      "execution_count": 18,
      "outputs": []
    },
    {
      "cell_type": "markdown",
      "source": [
        "**Split into train/test** "
      ],
      "metadata": {
        "id": "Q8nxy6HbPaBn"
      }
    },
    {
      "cell_type": "code",
      "source": [
        "X_train, X_test, y_train, y_test = train_test_split(X, y, test_size=0.2, random_state=0)\n"
      ],
      "metadata": {
        "id": "lOaqiNeyOwxU"
      },
      "execution_count": 19,
      "outputs": []
    },
    {
      "cell_type": "markdown",
      "source": [
        "**Define model type and fit**"
      ],
      "metadata": {
        "id": "VysONkDrPuD_"
      }
    },
    {
      "cell_type": "code",
      "source": [
        "tree_model = tree.DecisionTreeClassifier()\n",
        "\n",
        "tree_model.fit(X_train, y_train)"
      ],
      "metadata": {
        "colab": {
          "base_uri": "https://localhost:8080/"
        },
        "id": "e_Fa-o95P0mu",
        "outputId": "f42fa057-3ea9-4215-9a66-25a68da0fd8c"
      },
      "execution_count": 20,
      "outputs": [
        {
          "output_type": "execute_result",
          "data": {
            "text/plain": [
              "DecisionTreeClassifier()"
            ]
          },
          "metadata": {},
          "execution_count": 20
        }
      ]
    },
    {
      "cell_type": "markdown",
      "source": [
        "**Scoring**"
      ],
      "metadata": {
        "id": "T2PXZQAkRJ6g"
      }
    },
    {
      "cell_type": "code",
      "source": [
        "train_score = tree_model.score(X_train, y_train)\n",
        "train_error = 1 - train_score\n",
        "\n",
        "print(\"Score on data used in training =\", train_score, \"==>error =\", train_error)"
      ],
      "metadata": {
        "colab": {
          "base_uri": "https://localhost:8080/"
        },
        "id": "BmoYWVy_RQYk",
        "outputId": "d2f3d759-94d5-4758-9331-04eaa4bf0626"
      },
      "execution_count": 21,
      "outputs": [
        {
          "output_type": "stream",
          "name": "stdout",
          "text": [
            "Score on data used in training = 0.8758278145695364 ==>error = 0.1241721854304636\n"
          ]
        }
      ]
    },
    {
      "cell_type": "code",
      "source": [
        "test_score = tree_model.score(X_test, y_test)\n",
        "test_error = 1 - test_score\n",
        "\n",
        "print(\"Score on test (unseen) data =\", test_score, \"==>error =\", test_error)"
      ],
      "metadata": {
        "colab": {
          "base_uri": "https://localhost:8080/"
        },
        "id": "_p1LTeqeRktg",
        "outputId": "1273aba3-67d7-48fb-825f-4a8d1f247d4f"
      },
      "execution_count": 22,
      "outputs": [
        {
          "output_type": "stream",
          "name": "stdout",
          "text": [
            "Score on test (unseen) data = 0.7763157894736842 ==>error = 0.22368421052631582\n"
          ]
        }
      ]
    },
    {
      "cell_type": "markdown",
      "source": [
        "**Implies model may be over-fit - big increase in error on test data**"
      ],
      "metadata": {
        "id": "Z7ri6AuEVICN"
      }
    },
    {
      "cell_type": "markdown",
      "source": [
        "**Hyperparameter Tuning**"
      ],
      "metadata": {
        "id": "fpGozMHvV_Pu"
      }
    },
    {
      "cell_type": "code",
      "source": [
        "# This can take long 'cause runs down a lot of paths\n",
        "grid_param_tree = {\"criterion\" : [\"gini\", \"entropy\"],\n",
        "                   \"max_depth\" : range(1, 31),\n",
        "                   \"max_features\" : range(1, 4)}\n",
        "\n",
        "grid_search_tree = ms.GridSearchCV(tree_model,\n",
        "                                   grid_param_tree,\n",
        "                                   cv=4,\n",
        "                                   scoring=\"accuracy\").fit(X_train, y_train)\n",
        "\n",
        "print(\"Best parameters:\", grid_search_tree.best_params_,\n",
        "      \"\\nBest Score:\", grid_search_tree.best_score_)"
      ],
      "metadata": {
        "colab": {
          "base_uri": "https://localhost:8080/"
        },
        "id": "NzyAhnunWEae",
        "outputId": "ca0b8b11-956b-4960-83e4-96f8df0aedfa"
      },
      "execution_count": 23,
      "outputs": [
        {
          "output_type": "stream",
          "name": "stdout",
          "text": [
            "Best parameters: {'criterion': 'entropy', 'max_depth': 6, 'max_features': 1} \n",
            "Best Score: 0.8079470198675497\n"
          ]
        }
      ]
    },
    {
      "cell_type": "code",
      "source": [
        "grid_train_score = grid_search_tree.best_estimator_.score(X_train, y_train)\n",
        "grid_train_error = 1 - grid_train_score\n",
        "\n",
        "print(\"Best estimator score on data used in training =\", grid_train_score, \"==>error =\", grid_train_error)\n",
        "\n",
        "grid_test_score = grid_search_tree.best_estimator_.score(X_test, y_test)\n",
        "grid_test_error = 1 - grid_test_score\n",
        "\n",
        "print(\"Best estimator score on test (unseen) data =\", grid_test_score, \"==>error =\", grid_test_error)"
      ],
      "metadata": {
        "colab": {
          "base_uri": "https://localhost:8080/"
        },
        "id": "x1EaDyJAc-18",
        "outputId": "9a4b72be-583c-4684-847a-cb9c89af2f8f"
      },
      "execution_count": 24,
      "outputs": [
        {
          "output_type": "stream",
          "name": "stdout",
          "text": [
            "Best estimator score on data used in training = 0.8344370860927153 ==>error = 0.16556291390728473\n",
            "Best estimator score on test (unseen) data = 0.8092105263157895 ==>error = 0.1907894736842105\n"
          ]
        }
      ]
    },
    {
      "cell_type": "markdown",
      "source": [
        "**Error on test data has decreased by over 3% - though this does fluctuate with each run**"
      ],
      "metadata": {
        "id": "QUb7pGezecGY"
      }
    }
  ]
}