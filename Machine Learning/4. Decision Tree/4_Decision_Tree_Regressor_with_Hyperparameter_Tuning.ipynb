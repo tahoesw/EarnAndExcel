{
  "nbformat": 4,
  "nbformat_minor": 0,
  "metadata": {
    "colab": {
      "name": "4. Decision Tree Regressor with Hyperparameter Tuning.ipynb",
      "provenance": [],
      "collapsed_sections": []
    },
    "kernelspec": {
      "name": "python3",
      "display_name": "Python 3"
    },
    "language_info": {
      "name": "python"
    }
  },
  "cells": [
    {
      "cell_type": "code",
      "execution_count": 1,
      "metadata": {
        "id": "VzU7zerEKk6H"
      },
      "outputs": [],
      "source": [
        "import numpy as np\n",
        "import pandas as pd\n",
        "import matplotlib.pyplot as plt\n",
        "import sklearn.model_selection as ms\n",
        "from sklearn.model_selection import train_test_split, StratifiedKFold, RandomizedSearchCV, GridSearchCV\n",
        "from sklearn import tree\n",
        "from sklearn import datasets\n",
        "from sklearn import linear_model\n",
        "from sklearn.linear_model import LogisticRegression\n",
        "from datetime import datetime\n",
        "from sklearn.datasets import load_iris\n",
        "from xgboost import XGBClassifier\n",
        "import warnings\n",
        "warnings.filterwarnings(\"ignore\")"
      ]
    },
    {
      "cell_type": "markdown",
      "source": [
        "**Read and clean data**"
      ],
      "metadata": {
        "id": "XQ0rM_TmPUl9"
      }
    },
    {
      "cell_type": "code",
      "source": [
        "iris = load_iris()\n",
        "df = pd.DataFrame(data=np.c_[iris[\"data\"], iris[\"target\"]],\n",
        "                     columns=iris[\"feature_names\"] + [\"target\"])\n",
        "\n",
        "# Inputs: sepal length (cm),\tsepal width (cm),\tpetal length (cm)\n",
        "X = df[df.columns[0:3]]\n",
        "\n",
        "# Output (dependent var) - in series format\n",
        "y = df['petal width (cm)']"
      ],
      "metadata": {
        "id": "7-BQ6JeRMR2m"
      },
      "execution_count": 2,
      "outputs": []
    },
    {
      "cell_type": "markdown",
      "source": [
        "**Split into train/test** "
      ],
      "metadata": {
        "id": "Q8nxy6HbPaBn"
      }
    },
    {
      "cell_type": "code",
      "source": [
        "X_train, X_test, y_train, y_test = train_test_split(X, y, test_size=0.2, random_state=0)\n"
      ],
      "metadata": {
        "id": "lOaqiNeyOwxU"
      },
      "execution_count": 3,
      "outputs": []
    },
    {
      "cell_type": "markdown",
      "source": [
        "**Define model type and fit**"
      ],
      "metadata": {
        "id": "VysONkDrPuD_"
      }
    },
    {
      "cell_type": "code",
      "source": [
        "tree_model = tree.DecisionTreeRegressor()\n",
        "\n",
        "tree_model.fit(X_train, y_train)"
      ],
      "metadata": {
        "colab": {
          "base_uri": "https://localhost:8080/"
        },
        "id": "e_Fa-o95P0mu",
        "outputId": "98a95f8c-0d11-40ee-c105-3b3c09e7850b"
      },
      "execution_count": 4,
      "outputs": [
        {
          "output_type": "execute_result",
          "data": {
            "text/plain": [
              "DecisionTreeRegressor()"
            ]
          },
          "metadata": {},
          "execution_count": 4
        }
      ]
    },
    {
      "cell_type": "markdown",
      "source": [
        "**Scoring**"
      ],
      "metadata": {
        "id": "T2PXZQAkRJ6g"
      }
    },
    {
      "cell_type": "code",
      "source": [
        "train_score = tree_model.score(X_train, y_train)\n",
        "train_error = 1 - train_score\n",
        "\n",
        "print(\"Score on data used in training =\", train_score, \"==>error =\", train_error)"
      ],
      "metadata": {
        "colab": {
          "base_uri": "https://localhost:8080/"
        },
        "id": "BmoYWVy_RQYk",
        "outputId": "3380b8a6-e0e3-48b8-df86-b22397c5170c"
      },
      "execution_count": 5,
      "outputs": [
        {
          "output_type": "stream",
          "name": "stdout",
          "text": [
            "Score on data used in training = 0.9986720653809774 ==>error = 0.001327934619022586\n"
          ]
        }
      ]
    },
    {
      "cell_type": "code",
      "source": [
        "test_score = tree_model.score(X_test, y_test)\n",
        "test_error = 1 - test_score\n",
        "\n",
        "print(\"Score on test (unseen) data =\", test_score, \"==>error =\", test_error)"
      ],
      "metadata": {
        "colab": {
          "base_uri": "https://localhost:8080/"
        },
        "id": "_p1LTeqeRktg",
        "outputId": "93c54919-7a30-4eb7-8cae-a611c68d8024"
      },
      "execution_count": 6,
      "outputs": [
        {
          "output_type": "stream",
          "name": "stdout",
          "text": [
            "Score on test (unseen) data = 0.9173783239602861 ==>error = 0.08262167603971393\n"
          ]
        }
      ]
    },
    {
      "cell_type": "markdown",
      "source": [
        "**Hyperparameter Tuning**"
      ],
      "metadata": {
        "id": "9zg8cndoDbKW"
      }
    },
    {
      "cell_type": "code",
      "source": [
        "# This can take long 'cause runs down a lot of paths\n",
        "grid_param_tree = {\"max_depth\" : range(1, 31),\n",
        "                   \"max_features\" : range(1, len(df.columns))}\n",
        "\n",
        "grid_search_tree = ms.GridSearchCV(tree_model,\n",
        "                                   grid_param_tree,\n",
        "                                   cv=3,\n",
        "                                   scoring=\"r2\").fit(X_train, y_train)\n",
        "\n",
        "print(\"Best parameters:\", grid_search_tree.best_params_,\n",
        "      \"\\nBest Score:\", grid_search_tree.best_score_)"
      ],
      "metadata": {
        "colab": {
          "base_uri": "https://localhost:8080/"
        },
        "id": "a0FvuEwUDdNH",
        "outputId": "3a4a66b3-6fba-4350-f0f1-c2c334ded412"
      },
      "execution_count": 7,
      "outputs": [
        {
          "output_type": "stream",
          "name": "stdout",
          "text": [
            "Best parameters: {'max_depth': 3, 'max_features': 3} \n",
            "Best Score: 0.9223696152647932\n"
          ]
        }
      ]
    },
    {
      "cell_type": "code",
      "source": [
        "grid_train_score = grid_search_tree.best_estimator_.score(X_train, y_train)\n",
        "grid_train_error = 1 - grid_train_score\n",
        "\n",
        "print(\"Best estimator score on data used in training =\", grid_train_score, \"==>error =\", grid_train_error)\n",
        "\n",
        "grid_test_score = grid_search_tree.best_estimator_.score(X_test, y_test)\n",
        "grid_test_error = 1 - grid_test_score\n",
        "\n",
        "print(\"Best estimator score on test (unseen) data =\", grid_test_score, \"==>error =\", grid_test_error)"
      ],
      "metadata": {
        "colab": {
          "base_uri": "https://localhost:8080/"
        },
        "id": "TeIam66dEvub",
        "outputId": "cf125451-ad2f-4254-aee4-6dd912873c26"
      },
      "execution_count": 8,
      "outputs": [
        {
          "output_type": "stream",
          "name": "stdout",
          "text": [
            "Best estimator score on data used in training = 0.9541826369835199 ==>error = 0.045817363016480095\n",
            "Best estimator score on test (unseen) data = 0.8860711225314797 ==>error = 0.11392887746852032\n"
          ]
        }
      ]
    },
    {
      "cell_type": "markdown",
      "source": [
        "**Original model comes out best**"
      ],
      "metadata": {
        "id": "Q9-Z0aH_FEMw"
      }
    }
  ]
}