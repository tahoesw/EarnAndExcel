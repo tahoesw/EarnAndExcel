{
  "nbformat": 4,
  "nbformat_minor": 0,
  "metadata": {
    "colab": {
      "name": "Ensembling.ipynb",
      "provenance": [],
      "collapsed_sections": []
    },
    "kernelspec": {
      "name": "python3",
      "display_name": "Python 3"
    },
    "language_info": {
      "name": "python"
    }
  },
  "cells": [
    {
      "cell_type": "code",
      "execution_count": 1,
      "metadata": {
        "id": "VzU7zerEKk6H"
      },
      "outputs": [],
      "source": [
        "import numpy as np\n",
        "import pandas as pd\n",
        "import matplotlib.pyplot as plt\n",
        "import sklearn.model_selection as ms\n",
        "from sklearn.model_selection import train_test_split, StratifiedKFold, RandomizedSearchCV, GridSearchCV\n",
        "from sklearn import tree\n",
        "from sklearn import datasets\n",
        "from sklearn import linear_model\n",
        "from sklearn import ensemble\n",
        "from sklearn.linear_model import LogisticRegression\n",
        "from datetime import datetime\n",
        "from sklearn.datasets import load_iris\n",
        "from xgboost import XGBClassifier\n",
        "import warnings\n",
        "warnings.filterwarnings(\"ignore\")"
      ]
    },
    {
      "cell_type": "markdown",
      "source": [
        "**Read and clean data**"
      ],
      "metadata": {
        "id": "XQ0rM_TmPUl9"
      }
    },
    {
      "cell_type": "code",
      "source": [
        "iris = load_iris()\n",
        "df = pd.DataFrame(data=np.c_[iris[\"data\"], iris[\"target\"]],\n",
        "                     columns=iris[\"feature_names\"] + [\"target\"])\n",
        "\n",
        "# Inputs: sepal length (cm),\tsepal width (cm),\tpetal length (cm)\n",
        "X = df[df.columns[0:3]]\n",
        "\n",
        "# Output (dependent var) - in series format\n",
        "y = df['petal width (cm)']"
      ],
      "metadata": {
        "id": "7-BQ6JeRMR2m"
      },
      "execution_count": 2,
      "outputs": []
    },
    {
      "cell_type": "markdown",
      "source": [
        "**Split into train/test** "
      ],
      "metadata": {
        "id": "Q8nxy6HbPaBn"
      }
    },
    {
      "cell_type": "code",
      "source": [
        "X_train, X_test, y_train, y_test = train_test_split(X, y, test_size=0.2, random_state=0)\n"
      ],
      "metadata": {
        "id": "lOaqiNeyOwxU"
      },
      "execution_count": 3,
      "outputs": []
    },
    {
      "cell_type": "markdown",
      "source": [
        "**Define Decision Tree model type and fit**"
      ],
      "metadata": {
        "id": "VysONkDrPuD_"
      }
    },
    {
      "cell_type": "code",
      "source": [
        "tree_model = tree.DecisionTreeRegressor()\n",
        "\n",
        "tree_model.fit(X_train, y_train)"
      ],
      "metadata": {
        "colab": {
          "base_uri": "https://localhost:8080/"
        },
        "id": "e_Fa-o95P0mu",
        "outputId": "5d310d20-049b-42a0-e52e-a9d5f9bdf7ed"
      },
      "execution_count": 4,
      "outputs": [
        {
          "output_type": "execute_result",
          "data": {
            "text/plain": [
              "DecisionTreeRegressor()"
            ]
          },
          "metadata": {},
          "execution_count": 4
        }
      ]
    },
    {
      "cell_type": "markdown",
      "source": [
        "**DT Hyperparameter Tuning**"
      ],
      "metadata": {
        "id": "osHXpRb8DgW-"
      }
    },
    {
      "cell_type": "code",
      "source": [
        "# This can take long 'cause runs down a lot of paths\n",
        "grid_param_tree = {\"max_depth\" : range(1, 31),\n",
        "                   \"max_features\" : range(1, len(df.columns))}\n",
        "\n",
        "print(str(datetime.now()))\n",
        "grid_search_tree = ms.GridSearchCV(tree_model,\n",
        "                                   grid_param_tree,\n",
        "                                   cv=4,\n",
        "                                   scoring=\"r2\").fit(X_train, y_train)\n",
        "print(str(datetime.now()))\n",
        "\n",
        "print(\"Best parameters:\", grid_search_tree.best_params_,\n",
        "      \"\\nBest Score:\", grid_search_tree.best_score_)"
      ],
      "metadata": {
        "colab": {
          "base_uri": "https://localhost:8080/"
        },
        "id": "EVJS7jI3DpCk",
        "outputId": "5532f660-0386-4413-bda8-25a245a12387"
      },
      "execution_count": 5,
      "outputs": [
        {
          "output_type": "stream",
          "name": "stdout",
          "text": [
            "2022-08-21 02:48:18.998299\n",
            "2022-08-21 02:48:23.994392\n",
            "Best parameters: {'max_depth': 3, 'max_features': 3} \n",
            "Best Score: 0.9234011452742836\n"
          ]
        }
      ]
    },
    {
      "cell_type": "markdown",
      "source": [
        "**Define Random Forest model type and fit**"
      ],
      "metadata": {
        "id": "93C7Y7tvCkUB"
      }
    },
    {
      "cell_type": "code",
      "source": [
        "rf_model = ensemble.RandomForestRegressor(random_state=1, n_jobs=-1)\n",
        "# print(rf_model)\n",
        "\n",
        "rf_model.fit(X_train, y_train)"
      ],
      "metadata": {
        "colab": {
          "base_uri": "https://localhost:8080/"
        },
        "id": "bqxsJUHcCwhm",
        "outputId": "0dd3575a-2eae-4755-c134-0497f49b74d1"
      },
      "execution_count": 6,
      "outputs": [
        {
          "output_type": "execute_result",
          "data": {
            "text/plain": [
              "RandomForestRegressor(n_jobs=-1, random_state=1)"
            ]
          },
          "metadata": {},
          "execution_count": 6
        }
      ]
    },
    {
      "cell_type": "markdown",
      "source": [
        "**RF Hyperparameter Tuning**"
      ],
      "metadata": {
        "id": "0qTvvVxxEYos"
      }
    },
    {
      "cell_type": "code",
      "source": [
        "# This can take long 'cause runs down a lot of paths\n",
        "grid_param_forest = {\"max_depth\" : range(1, 5),\n",
        "                     \"n_estimators\" : range(10, 300, 20),\n",
        "                     \"max_features\" : range(1, len(df.columns))}\n",
        "\n",
        "print(str(datetime.now()))\n",
        "grid_search_forest = ms.GridSearchCV(rf_model,\n",
        "                                    grid_param_forest,\n",
        "                                    cv=3,\n",
        "                                    verbose=True,\n",
        "                                    scoring=\"r2\").fit(X_train, y_train)\n",
        "print(str(datetime.now()))\n",
        "\n",
        "print(\"Best parameters:\", grid_search_forest.best_params_,\n",
        "      \"\\nBest Score:\", grid_search_forest.best_score_)"
      ],
      "metadata": {
        "colab": {
          "base_uri": "https://localhost:8080/"
        },
        "id": "JAjbnBxXEc65",
        "outputId": "29832f56-565b-41c9-8892-eba5cc1dcdda"
      },
      "execution_count": 7,
      "outputs": [
        {
          "output_type": "stream",
          "name": "stdout",
          "text": [
            "2022-08-21 02:48:24.349070\n",
            "Fitting 3 folds for each of 240 candidates, totalling 720 fits\n",
            "2022-08-21 02:54:33.127148\n",
            "Best parameters: {'max_depth': 3, 'max_features': 3, 'n_estimators': 30} \n",
            "Best Score: 0.9424032781851945\n"
          ]
        }
      ]
    },
    {
      "cell_type": "markdown",
      "source": [
        "**Predict each model**"
      ],
      "metadata": {
        "id": "jS9Q1k0BFxAQ"
      }
    },
    {
      "cell_type": "code",
      "source": [
        "prediction_data = [4, 3.2, 1.6]\n",
        "\n",
        "tree_prediction = grid_search_tree.predict([prediction_data])\n",
        "print(\"DT Petal width (cm) prediction for inputs:\", prediction_data, \"is\", tree_prediction)"
      ],
      "metadata": {
        "colab": {
          "base_uri": "https://localhost:8080/"
        },
        "id": "ApZd7Sh9F3gI",
        "outputId": "544ac08c-5da6-4690-d9b3-a6e95fa35f52"
      },
      "execution_count": 8,
      "outputs": [
        {
          "output_type": "stream",
          "name": "stdout",
          "text": [
            "DT Petal width (cm) prediction for inputs: [4, 3.2, 1.6] is [0.17857143]\n"
          ]
        }
      ]
    },
    {
      "cell_type": "code",
      "source": [
        "rf_prediction = grid_search_forest.predict([prediction_data])\n",
        "print(\"RF Petal width (cm) prediction for inputs:\", prediction_data, \"is\", rf_prediction)"
      ],
      "metadata": {
        "colab": {
          "base_uri": "https://localhost:8080/"
        },
        "id": "6GGJ6ht-Gcko",
        "outputId": "ba246350-21fd-404d-be28-e5b419ce957e"
      },
      "execution_count": 9,
      "outputs": [
        {
          "output_type": "stream",
          "name": "stdout",
          "text": [
            "RF Petal width (cm) prediction for inputs: [4, 3.2, 1.6] is [0.23835976]\n"
          ]
        }
      ]
    },
    {
      "cell_type": "markdown",
      "source": [
        "**Average the models**"
      ],
      "metadata": {
        "id": "7AVCLCqPLz_v"
      }
    },
    {
      "cell_type": "code",
      "source": [
        "def model_ensemble(sl, sw, pl, tree_weight=0.5):\n",
        "  tree_prediction = grid_search_tree.predict([[sl, sw, pl]])\n",
        "  rf_prediction = grid_search_forest.predict([[sl, sw, pl]])\n",
        "  return ((tree_weight * tree_prediction + (1 - tree_weight) * rf_prediction))[0]"
      ],
      "metadata": {
        "id": "TdkKqh_5L7Us"
      },
      "execution_count": 10,
      "outputs": []
    },
    {
      "cell_type": "code",
      "source": [
        "print(\"Sepal Length = 4, Sepal width = 3.2, Petal length = 1.6\")\n",
        "\n",
        "# use DT weights = .2, .5, .8\n",
        "for i in np.arange(.2, .81, .3):\n",
        "  print(\"With Decision Tree weighting:\", i * 100, \"percent; ensemble Petal width (cm) prediction is:\", model_ensemble(4, 3.2, 1.6, i))"
      ],
      "metadata": {
        "colab": {
          "base_uri": "https://localhost:8080/"
        },
        "id": "se6FCFWaNk86",
        "outputId": "0801f615-65ae-489d-b42a-b39313726599"
      },
      "execution_count": 11,
      "outputs": [
        {
          "output_type": "stream",
          "name": "stdout",
          "text": [
            "Sepal Length = 4, Sepal width = 3.2, Petal length = 1.6\n",
            "With Decision Tree weighting: 20.0 percent; ensemble Petal width (cm) prediction is: 0.22640209722154428\n",
            "With Decision Tree weighting: 50.0 percent; ensemble Petal width (cm) prediction is: 0.20846559647775087\n",
            "With Decision Tree weighting: 80.0 percent; ensemble Petal width (cm) prediction is: 0.1905290957339575\n"
          ]
        }
      ]
    },
    {
      "cell_type": "markdown",
      "source": [
        "**Scoring**"
      ],
      "metadata": {
        "id": "T2PXZQAkRJ6g"
      }
    },
    {
      "cell_type": "code",
      "source": [
        "tree_train_score = grid_search_tree.best_estimator_.score(X_train, y_train)\n",
        "tree_train_error = 1 - tree_train_score\n",
        "\n",
        "print(\"DT Score on data used in training =\", tree_train_score, \"==>error =\", tree_train_error)"
      ],
      "metadata": {
        "colab": {
          "base_uri": "https://localhost:8080/"
        },
        "id": "BmoYWVy_RQYk",
        "outputId": "bf3f94a5-baf8-4e18-8993-5baaad9a4957"
      },
      "execution_count": 12,
      "outputs": [
        {
          "output_type": "stream",
          "name": "stdout",
          "text": [
            "DT Score on data used in training = 0.9541826369835199 ==>error = 0.045817363016480095\n"
          ]
        }
      ]
    },
    {
      "cell_type": "code",
      "source": [
        "tree_test_score = grid_search_tree.best_estimator_.score(X_test, y_test)\n",
        "tree_test_error = 1 - tree_test_score\n",
        "\n",
        "print(\"DT Score on test (unseen) data =\", tree_test_score, \"==>error =\", tree_test_error)"
      ],
      "metadata": {
        "colab": {
          "base_uri": "https://localhost:8080/"
        },
        "id": "_p1LTeqeRktg",
        "outputId": "ce776f55-2d20-4d1d-f671-a56cac29cb36"
      },
      "execution_count": 13,
      "outputs": [
        {
          "output_type": "stream",
          "name": "stdout",
          "text": [
            "DT Score on test (unseen) data = 0.8860711225314798 ==>error = 0.1139288774685202\n"
          ]
        }
      ]
    },
    {
      "cell_type": "code",
      "source": [
        "grid_train_score = grid_search_forest.best_estimator_.score(X_train, y_train)\n",
        "grid_train_error = 1 - grid_train_score\n",
        "\n",
        "print(\"RF Best estimator score on data used in training =\", grid_train_score, \"==>error =\", grid_train_error)\n",
        "\n",
        "grid_test_score = grid_search_forest.best_estimator_.score(X_test, y_test)\n",
        "grid_test_error = 1 - grid_test_score\n",
        "\n",
        "print(\"RF Best estimator score on test (unseen) data =\", grid_test_score, \"==>error =\", grid_test_error)"
      ],
      "metadata": {
        "colab": {
          "base_uri": "https://localhost:8080/"
        },
        "id": "BTVyxRrhPcnX",
        "outputId": "4dd41837-7730-444d-cc71-f4c7eee0749a"
      },
      "execution_count": 14,
      "outputs": [
        {
          "output_type": "stream",
          "name": "stdout",
          "text": [
            "RF Best estimator score on data used in training = 0.9623596462965536 ==>error = 0.03764035370344643\n",
            "RF Best estimator score on test (unseen) data = 0.9112091772954077 ==>error = 0.08879082270459226\n"
          ]
        }
      ]
    }
  ]
}