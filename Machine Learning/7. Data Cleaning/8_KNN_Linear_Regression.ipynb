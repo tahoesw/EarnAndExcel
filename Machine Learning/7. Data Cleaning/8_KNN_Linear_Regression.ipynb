{
  "nbformat": 4,
  "nbformat_minor": 0,
  "metadata": {
    "colab": {
      "name": "8. KNN Linear Regression.ipynb",
      "provenance": [],
      "collapsed_sections": []
    },
    "kernelspec": {
      "name": "python3",
      "display_name": "Python 3"
    },
    "language_info": {
      "name": "python"
    }
  },
  "cells": [
    {
      "cell_type": "code",
      "execution_count": 1,
      "metadata": {
        "id": "VzU7zerEKk6H"
      },
      "outputs": [],
      "source": [
        "import numpy as np\n",
        "import pandas as pd\n",
        "import seaborn as sns\n",
        "from sklearn import linear_model\n",
        "from sklearn.neighbors import KNeighborsClassifier\n",
        "import math\n",
        "import warnings\n",
        "warnings.filterwarnings(\"ignore\")\n",
        "pd.set_option(\"display.max_rows\", 10)"
      ]
    },
    {
      "cell_type": "markdown",
      "source": [
        "**Read data**"
      ],
      "metadata": {
        "id": "XQ0rM_TmPUl9"
      }
    },
    {
      "cell_type": "code",
      "source": [
        "# Uploaded from C:\\Users\\wel51x\\Box\\MyBox\\Data\\Housing Data\n",
        "df = pd.read_csv(\"train.csv\")\n",
        "#df"
      ],
      "metadata": {
        "id": "7-BQ6JeRMR2m"
      },
      "execution_count": 2,
      "outputs": []
    },
    {
      "cell_type": "code",
      "source": [
        "print(df.BsmtExposure.value_counts())\n",
        "print(\"Number of missing BsmtExposure values:\", df.isna().sum().BsmtExposure)\n",
        "# [0 if df.KitchenQual[i] == \"Fa\" else 1 if df.KitchenQual[i] == \"TA\" else 2 if df.KitchenQual[i] == \"Gd\" else 3 for i in range(len(df))]\n",
        "# sns.barplot(data=df, x=\"BsmtExposure\", y=\"SalePrice\")\n",
        "\n",
        "#get rows with missing BsmtExposure values\n",
        "srs = df.BsmtExposure.isna()\n",
        "missing = srs[srs].index\n",
        "\n",
        "# split into missing and present dfs\n",
        "missingdf = pd.DataFrame(df.iloc[[i for i in missing],])\n",
        "presentdf = pd.DataFrame(df.iloc[[i for i in range(len(df)) if i not in missing],])\n",
        "\n",
        "# set model & init k value to sqrt(len(df)\n",
        "classifier = KNeighborsClassifier(int(math.sqrt(len(df))), weights=\"distance\")\n",
        "\n",
        "# fit model\n",
        "trained_model = classifier.fit(presentdf[[\"SalePrice\"]], presentdf[[\"BsmtExposure\"]])\n",
        "\n",
        "# impute missing BsmtExposure values based on neighbors' Sale Prices\n",
        "imputed_values = trained_model.predict(missingdf[[\"SalePrice\"]])\n",
        "\n",
        "# plug these back in to missing\n",
        "missingdf.BsmtExposure = list(imputed_values)\n",
        "\n",
        "# recreate df\n",
        "df = presentdf.append(missingdf)\n",
        "df.sort_values(by=\"Id\", inplace=True)"
      ],
      "metadata": {
        "colab": {
          "base_uri": "https://localhost:8080/"
        },
        "id": "okPUEOQJPi2-",
        "outputId": "640d53e8-22ee-4e0a-8f2b-adc3c04abda6"
      },
      "execution_count": 3,
      "outputs": [
        {
          "output_type": "stream",
          "name": "stdout",
          "text": [
            "No    953\n",
            "Av    221\n",
            "Gd    134\n",
            "Mn    114\n",
            "Name: BsmtExposure, dtype: int64\n",
            "Number of missing BsmtExposure values: 38\n"
          ]
        }
      ]
    },
    {
      "cell_type": "code",
      "source": [
        "print(df.BsmtExposure.value_counts())\n",
        "sns.barplot(data=df, x=\"BsmtExposure\", y=\"SalePrice\")"
      ],
      "metadata": {
        "colab": {
          "base_uri": "https://localhost:8080/",
          "height": 383
        },
        "id": "yrYxvaPguNQD",
        "outputId": "6c0748d0-42fd-49f4-937a-9c8e469b0c18"
      },
      "execution_count": 4,
      "outputs": [
        {
          "output_type": "stream",
          "name": "stdout",
          "text": [
            "No    987\n",
            "Av    223\n",
            "Gd    135\n",
            "Mn    115\n",
            "Name: BsmtExposure, dtype: int64\n"
          ]
        },
        {
          "output_type": "execute_result",
          "data": {
            "text/plain": [
              "<matplotlib.axes._subplots.AxesSubplot at 0x7f511c6853d0>"
            ]
          },
          "metadata": {},
          "execution_count": 4
        },
        {
          "output_type": "display_data",
          "data": {
            "text/plain": [
              "<Figure size 432x288 with 1 Axes>"
            ],
            "image/png": "[encoded data removed]"
          },
          "metadata": {
            "needs_background": "light"
          }
        }
      ]
    },
    {
      "cell_type": "markdown",
      "source": [
        "**Clean and encode**"
      ],
      "metadata": {
        "id": "vS6DMRTeVZI8"
      }
    },
    {
      "cell_type": "code",
      "source": [
        "#df = df[[\"BsmtExposure\", \"SalePrice\"]]\n",
        "#df\n",
        "\n",
        "X = pd.DataFrame()\n",
        "# Transform BsmtExposure No, Mn, Av, rest(Gd) to 0, 1, 2, 3\n",
        "X[\"BsmtExposure\"] = [0 if df.BsmtExposure[i] == \"No\" else 1 if df.BsmtExposure[i] == \"Mn\" else 2 if df.BsmtExposure[i] == \"Av\" else 3 for i in range(len(df))]\n",
        "\n",
        "y = df.SalePrice\n",
        "#print(X.BsmtExposure.value_counts())\n",
        "#X"
      ],
      "metadata": {
        "id": "Qhem6NMMK8qu"
      },
      "execution_count": 5,
      "outputs": []
    },
    {
      "cell_type": "markdown",
      "source": [
        "**Define model type and fit**"
      ],
      "metadata": {
        "id": "VysONkDrPuD_"
      }
    },
    {
      "cell_type": "code",
      "source": [
        "# Step 1: define model\n",
        "lm = linear_model.LinearRegression()\n",
        "\n",
        "# Step 2: fit X to Y\n",
        "lm.fit(X, y)"
      ],
      "metadata": {
        "colab": {
          "base_uri": "https://localhost:8080/"
        },
        "id": "e_Fa-o95P0mu",
        "outputId": "9c5e4717-dc73-46fd-d436-b4da3236cc30"
      },
      "execution_count": 6,
      "outputs": [
        {
          "output_type": "execute_result",
          "data": {
            "text/plain": [
              "LinearRegression()"
            ]
          },
          "metadata": {},
          "execution_count": 6
        }
      ]
    },
    {
      "cell_type": "markdown",
      "source": [
        "**Results**"
      ],
      "metadata": {
        "id": "T2PXZQAkRJ6g"
      }
    },
    {
      "cell_type": "code",
      "source": [
        "print(\"coeff = \", lm.coef_, \"intercept = \", lm.intercept_)"
      ],
      "metadata": {
        "colab": {
          "base_uri": "https://localhost:8080/"
        },
        "id": "BmoYWVy_RQYk",
        "outputId": "2c16d902-54ff-46ec-a63b-16ecc4ba8923"
      },
      "execution_count": 7,
      "outputs": [
        {
          "output_type": "stream",
          "name": "stdout",
          "text": [
            "coeff =  [27339.78809882] intercept =  162831.99362776746\n"
          ]
        }
      ]
    },
    {
      "cell_type": "code",
      "source": [
        "BsmtExposure = [\"No\", \"Mn\", \"Av\", \"Gd\"]\n",
        "for i in range(4):\n",
        "  print(\"For Basement Exposure =\", BsmtExposure[i], \"==> Sale Price prediction is\", int(np.round(lm.predict([[i]]))))"
      ],
      "metadata": {
        "colab": {
          "base_uri": "https://localhost:8080/"
        },
        "id": "_p1LTeqeRktg",
        "outputId": "95e9cc09-0a74-4117-81a2-828cd3ba1340"
      },
      "execution_count": 8,
      "outputs": [
        {
          "output_type": "stream",
          "name": "stdout",
          "text": [
            "For Basement Exposure = No ==> Sale Price prediction is 162832\n",
            "For Basement Exposure = Mn ==> Sale Price prediction is 190172\n",
            "For Basement Exposure = Av ==> Sale Price prediction is 217512\n",
            "For Basement Exposure = Gd ==> Sale Price prediction is 244851\n"
          ]
        }
      ]
    }
  ]
}