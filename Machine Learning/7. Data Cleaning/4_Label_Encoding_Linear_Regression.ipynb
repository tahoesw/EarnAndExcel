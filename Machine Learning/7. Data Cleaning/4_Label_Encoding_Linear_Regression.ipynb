{
  "nbformat": 4,
  "nbformat_minor": 0,
  "metadata": {
    "colab": {
      "name": "4. Label Encoding Linear Regression.ipynb",
      "provenance": [],
      "collapsed_sections": []
    },
    "kernelspec": {
      "name": "python3",
      "display_name": "Python 3"
    },
    "language_info": {
      "name": "python"
    }
  },
  "cells": [
    {
      "cell_type": "code",
      "execution_count": 22,
      "metadata": {
        "id": "VzU7zerEKk6H"
      },
      "outputs": [],
      "source": [
        "import numpy as np\n",
        "import pandas as pd\n",
        "import seaborn as sns\n",
        "from sklearn import linear_model\n",
        "import warnings\n",
        "warnings.filterwarnings(\"ignore\")"
      ]
    },
    {
      "cell_type": "markdown",
      "source": [
        "**Read data**"
      ],
      "metadata": {
        "id": "XQ0rM_TmPUl9"
      }
    },
    {
      "cell_type": "code",
      "source": [
        "# Uploaded from C:\\Users\\wel51x\\Box\\MyBox\\Data\\Housing Data\n",
        "df = pd.read_csv(\"train.csv\")\n",
        "#df"
      ],
      "metadata": {
        "id": "7-BQ6JeRMR2m"
      },
      "execution_count": 23,
      "outputs": []
    },
    {
      "cell_type": "code",
      "source": [
        "print(df.KitchenQual.value_counts())\n",
        "#[0 if df.KitchenQual[i] == \"Fa\" else 1 if df.KitchenQual[i] == \"TA\" else 2 if df.KitchenQual[i] == \"Gd\" else 3 for i in range(len(df))]\n",
        "sns.barplot(data=df, x=\"KitchenQual\", y=\"SalePrice\")"
      ],
      "metadata": {
        "colab": {
          "base_uri": "https://localhost:8080/",
          "height": 383
        },
        "id": "okPUEOQJPi2-",
        "outputId": "a11c0400-c8d2-4259-f9e0-ac7577c767f8"
      },
      "execution_count": 24,
      "outputs": [
        {
          "output_type": "stream",
          "name": "stdout",
          "text": [
            "TA    735\n",
            "Gd    586\n",
            "Ex    100\n",
            "Fa     39\n",
            "Name: KitchenQual, dtype: int64\n"
          ]
        },
        {
          "output_type": "execute_result",
          "data": {
            "text/plain": [
              "<matplotlib.axes._subplots.AxesSubplot at 0x7fef6d497290>"
            ]
          },
          "metadata": {},
          "execution_count": 24
        },
        {
          "output_type": "display_data",
          "data": {
            "text/plain": [
              "<Figure size 432x288 with 1 Axes>"
            ],
            "image/png": "[encoded data removed]"
          },
          "metadata": {
            "needs_background": "light"
          }
        }
      ]
    },
    {
      "cell_type": "markdown",
      "source": [
        "**Clean and encode**"
      ],
      "metadata": {
        "id": "vS6DMRTeVZI8"
      }
    },
    {
      "cell_type": "code",
      "source": [
        "df = df[[\"KitchenQual\", \"SalePrice\"]]\n",
        "df\n",
        "\n",
        "X = pd.DataFrame()\n",
        "# Transform KitchenQual Fa, TA, Gd, rest(Ex) to 0, 1, 2, 3\n",
        "X[\"KitchenQual\"] = [0 if df.KitchenQual[i] == \"Fa\" else 1 if df.KitchenQual[i] == \"TA\" else 2 if df.KitchenQual[i] == \"Gd\" else 3 for i in range(len(df))]\n",
        "\n",
        "y = df.SalePrice\n",
        "#print(X.KitchenQual.value_counts())\n",
        "#X"
      ],
      "metadata": {
        "id": "Qhem6NMMK8qu"
      },
      "execution_count": 25,
      "outputs": []
    },
    {
      "cell_type": "markdown",
      "source": [
        "**Define model type and fit**"
      ],
      "metadata": {
        "id": "VysONkDrPuD_"
      }
    },
    {
      "cell_type": "code",
      "source": [
        "# Step 1: define model\n",
        "lm = linear_model.LinearRegression()\n",
        "\n",
        "# Step 2: fit X to Y\n",
        "lm.fit(X, y)"
      ],
      "metadata": {
        "colab": {
          "base_uri": "https://localhost:8080/"
        },
        "id": "e_Fa-o95P0mu",
        "outputId": "2de38a04-d1c7-49a0-bd62-498af7b13522"
      },
      "execution_count": 26,
      "outputs": [
        {
          "output_type": "execute_result",
          "data": {
            "text/plain": [
              "LinearRegression()"
            ]
          },
          "metadata": {},
          "execution_count": 26
        }
      ]
    },
    {
      "cell_type": "markdown",
      "source": [
        "**Results**"
      ],
      "metadata": {
        "id": "T2PXZQAkRJ6g"
      }
    },
    {
      "cell_type": "code",
      "source": [
        "print(\"coeff = \", lm.coef_, \"intercept = \", lm.intercept_)"
      ],
      "metadata": {
        "colab": {
          "base_uri": "https://localhost:8080/"
        },
        "id": "BmoYWVy_RQYk",
        "outputId": "e15e9954-1dfc-4deb-dc5b-0a30b9c68949"
      },
      "execution_count": 27,
      "outputs": [
        {
          "output_type": "stream",
          "name": "stdout",
          "text": [
            "coeff =  [78944.59467166] intercept =  61585.08599975922\n"
          ]
        }
      ]
    },
    {
      "cell_type": "code",
      "source": [
        "KitchenQual = [\"Fa\", \"TA\", \"Gd\", \"Ex\"]\n",
        "for i in range(4):\n",
        "  print(\"For Kitchen Quality =\", KitchenQual[i], \"==> Sale Price prediction is\", lm.predict([[i]]))"
      ],
      "metadata": {
        "colab": {
          "base_uri": "https://localhost:8080/"
        },
        "id": "_p1LTeqeRktg",
        "outputId": "ddc6d208-c7d6-4147-a76a-6cf32ac0865f"
      },
      "execution_count": 28,
      "outputs": [
        {
          "output_type": "stream",
          "name": "stdout",
          "text": [
            "For Kitchen Quality = Fa ==> Sale Price prediction is [61585.08599976]\n",
            "For Kitchen Quality = TA ==> Sale Price prediction is [140529.68067142]\n",
            "For Kitchen Quality = Gd ==> Sale Price prediction is [219474.27534308]\n",
            "For Kitchen Quality = Ex ==> Sale Price prediction is [298418.87001474]\n"
          ]
        }
      ]
    }
  ]
}