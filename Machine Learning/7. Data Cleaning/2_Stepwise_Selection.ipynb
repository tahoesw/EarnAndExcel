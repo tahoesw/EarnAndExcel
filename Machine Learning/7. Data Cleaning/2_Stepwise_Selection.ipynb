{
  "nbformat": 4,
  "nbformat_minor": 0,
  "metadata": {
    "colab": {
      "name": "2. Stepwise Selection.ipynb",
      "provenance": [],
      "collapsed_sections": []
    },
    "kernelspec": {
      "name": "python3",
      "display_name": "Python 3"
    },
    "language_info": {
      "name": "python"
    }
  },
  "cells": [
    {
      "cell_type": "code",
      "execution_count": 2,
      "metadata": {
        "id": "WyTcDnPcnZXW"
      },
      "outputs": [],
      "source": [
        "#!pip uninstall mlxtend\n",
        "#!pip install mlxtend==0.19\n",
        "import numpy as np\n",
        "import pandas as pd\n",
        "import matplotlib.pyplot as plt\n",
        "import sklearn.model_selection as ms\n",
        "from sklearn.model_selection import train_test_split\n",
        "from sklearn.ensemble import GradientBoostingClassifier, GradientBoostingRegressor, RandomForestRegressor, RandomForestClassifier\n",
        "from sklearn.metrics import roc_auc_score\n",
        "from datetime import datetime\n",
        "from sklearn.datasets import load_iris\n",
        "import joblib\n",
        "import sys\n",
        "sys.modules['sklearn.externals.joblib'] = joblib\n",
        "import mlxtend\n",
        "from mlxtend.feature_selection import SequentialFeatureSelector as SFS\n",
        "from mlxtend.feature_selection import ExhaustiveFeatureSelector as EFS\n",
        "from mlxtend.plotting import plot_sequential_feature_selection as plot_sfs\n",
        "import warnings\n",
        "warnings.filterwarnings(\"ignore\")"
      ]
    },
    {
      "cell_type": "code",
      "source": [
        "print(mlxtend.__version__)"
      ],
      "metadata": {
        "colab": {
          "base_uri": "https://localhost:8080/"
        },
        "id": "SARDowmPvXvS",
        "outputId": "f5f61159-db6d-485a-c3ae-0f27f5a62511"
      },
      "execution_count": 3,
      "outputs": [
        {
          "output_type": "stream",
          "name": "stdout",
          "text": [
            "0.19.0\n"
          ]
        }
      ]
    },
    {
      "cell_type": "markdown",
      "source": [
        "**Read and clean data**"
      ],
      "metadata": {
        "id": "0W1JZpiIp2J_"
      }
    },
    {
      "cell_type": "code",
      "source": [
        "iris = load_iris()\n",
        "df = pd.DataFrame(data=np.c_[iris[\"data\"], iris[\"target\"]],\n",
        "                     columns=iris[\"feature_names\"] + [\"target\"])\n",
        "\n",
        "# Inputs: sepal length (cm),\tsepal width (cm),\tpetal length (cm)\n",
        "X = df[df.columns[0:3]]\n",
        "\n",
        "# Output (dependent var) - in series format\n",
        "y = df['petal width (cm)']"
      ],
      "metadata": {
        "id": "nlhwlwwRp40p"
      },
      "execution_count": 4,
      "outputs": []
    },
    {
      "cell_type": "markdown",
      "source": [
        "**Split into train/test** "
      ],
      "metadata": {
        "id": "BxWlA4zjqJNt"
      }
    },
    {
      "cell_type": "code",
      "source": [
        "X_train, X_test, y_train, y_test = train_test_split(X, y, test_size=0.2, random_state=42)"
      ],
      "metadata": {
        "id": "hHZy3ZBOqKWf"
      },
      "execution_count": 5,
      "outputs": []
    },
    {
      "cell_type": "markdown",
      "source": [
        "**Step forward**"
      ],
      "metadata": {
        "id": "wLltCcRGqUQy"
      }
    },
    {
      "cell_type": "code",
      "source": [
        "sfs = SFS(RandomForestRegressor(n_estimators=100, random_state=0, n_jobs=-1),\n",
        "          k_features=(1, len(X_train.columns)),\n",
        "          forward=True,\n",
        "          floating=False,\n",
        "          verbose=2,\n",
        "          cv=4,\n",
        "          scoring=\"r2\",\n",
        "          n_jobs=-1).fit(X_train, y_train)"
      ],
      "metadata": {
        "colab": {
          "base_uri": "https://localhost:8080/"
        },
        "id": "m1JX0xTRqXuv",
        "outputId": "9a3a5b7d-f471-41d7-b431-8c5d0c02e45a"
      },
      "execution_count": 6,
      "outputs": [
        {
          "output_type": "stream",
          "name": "stderr",
          "text": [
            "[Parallel(n_jobs=-1)]: Using backend LokyBackend with 2 concurrent workers.\n",
            "[Parallel(n_jobs=-1)]: Done   3 out of   3 | elapsed:    4.3s finished\n",
            "\n",
            "[2022-08-22 00:17:39] Features: 1/3 -- score: 0.9168824158474809[Parallel(n_jobs=-1)]: Using backend LokyBackend with 2 concurrent workers.\n",
            "[Parallel(n_jobs=-1)]: Done   2 out of   2 | elapsed:    1.5s finished\n",
            "\n",
            "[2022-08-22 00:17:40] Features: 2/3 -- score: 0.922511246744856[Parallel(n_jobs=-1)]: Using backend LokyBackend with 2 concurrent workers.\n",
            "[Parallel(n_jobs=-1)]: Done   1 out of   1 | elapsed:    1.4s finished\n",
            "\n",
            "[2022-08-22 00:17:42] Features: 3/3 -- score: 0.9359591353205714"
          ]
        }
      ]
    },
    {
      "cell_type": "code",
      "source": [
        "print(sfs.k_feature_names_, sfs.k_feature_idx_, sfs.k_score_)\n",
        "pd.set_option('max_colwidth', 800)\n",
        "pd.DataFrame.from_dict(sfs.get_metric_dict()).T"
      ],
      "metadata": {
        "colab": {
          "base_uri": "https://localhost:8080/",
          "height": 161
        },
        "id": "Q8zVDBxCyQUQ",
        "outputId": "e3fa1883-c59c-4d37-d287-985125e8acd0"
      },
      "execution_count": 7,
      "outputs": [
        {
          "output_type": "stream",
          "name": "stdout",
          "text": [
            "('sepal length (cm)', 'sepal width (cm)', 'petal length (cm)') (0, 1, 2) 0.9359591353205714\n"
          ]
        },
        {
          "output_type": "execute_result",
          "data": {
            "text/plain": [
              "  feature_idx  \\\n",
              "1        (2,)   \n",
              "2      (1, 2)   \n",
              "3   (0, 1, 2)   \n",
              "\n",
              "                                                                         cv_scores  \\\n",
              "1  [0.9585607557507267, 0.9264896181000124, 0.9155693558152211, 0.866909933723963]   \n",
              "2  [0.9447869094074077, 0.9299605745833006, 0.9075452879352417, 0.907752215053474]   \n",
              "3  [0.9468053907037183, 0.9537838344700843, 0.918087182809389, 0.9251601332990941]   \n",
              "\n",
              "  avg_score                                             feature_names  \\\n",
              "1  0.916882                                      (petal length (cm),)   \n",
              "2  0.922511                     (sepal width (cm), petal length (cm))   \n",
              "3  0.935959  (sepal length (cm), sepal width (cm), petal length (cm))   \n",
              "\n",
              "   ci_bound   std_dev   std_err  \n",
              "1   0.05273  0.032895  0.018992  \n",
              "2  0.025263   0.01576  0.009099  \n",
              "3  0.023659   0.01476  0.008521  "
            ],
            "text/html": [
              "\n",
              "  <div id=\"df-fd976590-b708-4338-82da-98893ab7f245\">\n",
              "    <div class=\"colab-df-container\">\n",
              "      <div>\n",
              "<style scoped>\n",
              "    .dataframe tbody tr th:only-of-type {\n",
              "        vertical-align: middle;\n",
              "    }\n",
              "\n",
              "    .dataframe tbody tr th {\n",
              "        vertical-align: top;\n",
              "    }\n",
              "\n",
              "    .dataframe thead th {\n",
              "        text-align: right;\n",
              "    }\n",
              "</style>\n",
              "<table border=\"1\" class=\"dataframe\">\n",
              "  <thead>\n",
              "    <tr style=\"text-align: right;\">\n",
              "      <th></th>\n",
              "      <th>feature_idx</th>\n",
              "      <th>cv_scores</th>\n",
              "      <th>avg_score</th>\n",
              "      <th>feature_names</th>\n",
              "      <th>ci_bound</th>\n",
              "      <th>std_dev</th>\n",
              "      <th>std_err</th>\n",
              "    </tr>\n",
              "  </thead>\n",
              "  <tbody>\n",
              "    <tr>\n",
              "      <th>1</th>\n",
              "      <td>(2,)</td>\n",
              "      <td>[0.9585607557507267, 0.9264896181000124, 0.9155693558152211, 0.866909933723963]</td>\n",
              "      <td>0.916882</td>\n",
              "      <td>(petal length (cm),)</td>\n",
              "      <td>0.05273</td>\n",
              "      <td>0.032895</td>\n",
              "      <td>0.018992</td>\n",
              "    </tr>\n",
              "    <tr>\n",
              "      <th>2</th>\n",
              "      <td>(1, 2)</td>\n",
              "      <td>[0.9447869094074077, 0.9299605745833006, 0.9075452879352417, 0.907752215053474]</td>\n",
              "      <td>0.922511</td>\n",
              "      <td>(sepal width (cm), petal length (cm))</td>\n",
              "      <td>0.025263</td>\n",
              "      <td>0.01576</td>\n",
              "      <td>0.009099</td>\n",
              "    </tr>\n",
              "    <tr>\n",
              "      <th>3</th>\n",
              "      <td>(0, 1, 2)</td>\n",
              "      <td>[0.9468053907037183, 0.9537838344700843, 0.918087182809389, 0.9251601332990941]</td>\n",
              "      <td>0.935959</td>\n",
              "      <td>(sepal length (cm), sepal width (cm), petal length (cm))</td>\n",
              "      <td>0.023659</td>\n",
              "      <td>0.01476</td>\n",
              "      <td>0.008521</td>\n",
              "    </tr>\n",
              "  </tbody>\n",
              "</table>\n",
              "</div>\n",
              "      <button class=\"colab-df-convert\" onclick=\"convertToInteractive('df-fd976590-b708-4338-82da-98893ab7f245')\"\n",
              "              title=\"Convert this dataframe to an interactive table.\"\n",
              "              style=\"display:none;\">\n",
              "        \n",
              "  <svg xmlns=\"http://www.w3.org/2000/svg\" height=\"24px\"viewBox=\"0 0 24 24\"\n",
              "       width=\"24px\">\n",
              "    <path d=\"M0 0h24v24H0V0z\" fill=\"none\"/>\n",
              "    <path d=\"M18.56 5.44l.94 2.06.94-2.06 2.06-.94-2.06-.94-.94-2.06-.94 2.06-2.06.94zm-11 1L8.5 8.5l.94-2.06 2.06-.94-2.06-.94L8.5 2.5l-.94 2.06-2.06.94zm10 10l.94 2.06.94-2.06 2.06-.94-2.06-.94-.94-2.06-.94 2.06-2.06.94z\"/><path d=\"M17.41 7.96l-1.37-1.37c-.4-.4-.92-.59-1.43-.59-.52 0-1.04.2-1.43.59L10.3 9.45l-7.72 7.72c-.78.78-.78 2.05 0 2.83L4 21.41c.39.39.9.59 1.41.59.51 0 1.02-.2 1.41-.59l7.78-7.78 2.81-2.81c.8-.78.8-2.07 0-2.86zM5.41 20L4 18.59l7.72-7.72 1.47 1.35L5.41 20z\"/>\n",
              "  </svg>\n",
              "      </button>\n",
              "      \n",
              "  <style>\n",
              "    .colab-df-container {\n",
              "      display:flex;\n",
              "      flex-wrap:wrap;\n",
              "      gap: 12px;\n",
              "    }\n",
              "\n",
              "    .colab-df-convert {\n",
              "      background-color: #E8F0FE;\n",
              "      border: none;\n",
              "      border-radius: 50%;\n",
              "      cursor: pointer;\n",
              "      display: none;\n",
              "      fill: #1967D2;\n",
              "      height: 32px;\n",
              "      padding: 0 0 0 0;\n",
              "      width: 32px;\n",
              "    }\n",
              "\n",
              "    .colab-df-convert:hover {\n",
              "      background-color: #E2EBFA;\n",
              "      box-shadow: 0px 1px 2px rgba(60, 64, 67, 0.3), 0px 1px 3px 1px rgba(60, 64, 67, 0.15);\n",
              "      fill: #174EA6;\n",
              "    }\n",
              "\n",
              "    [theme=dark] .colab-df-convert {\n",
              "      background-color: #3B4455;\n",
              "      fill: #D2E3FC;\n",
              "    }\n",
              "\n",
              "    [theme=dark] .colab-df-convert:hover {\n",
              "      background-color: #434B5C;\n",
              "      box-shadow: 0px 1px 3px 1px rgba(0, 0, 0, 0.15);\n",
              "      filter: drop-shadow(0px 1px 2px rgba(0, 0, 0, 0.3));\n",
              "      fill: #FFFFFF;\n",
              "    }\n",
              "  </style>\n",
              "\n",
              "      <script>\n",
              "        const buttonEl =\n",
              "          document.querySelector('#df-fd976590-b708-4338-82da-98893ab7f245 button.colab-df-convert');\n",
              "        buttonEl.style.display =\n",
              "          google.colab.kernel.accessAllowed ? 'block' : 'none';\n",
              "\n",
              "        async function convertToInteractive(key) {\n",
              "          const element = document.querySelector('#df-fd976590-b708-4338-82da-98893ab7f245');\n",
              "          const dataTable =\n",
              "            await google.colab.kernel.invokeFunction('convertToInteractive',\n",
              "                                                     [key], {});\n",
              "          if (!dataTable) return;\n",
              "\n",
              "          const docLinkHtml = 'Like what you see? Visit the ' +\n",
              "            '<a target=\"_blank\" href=https://colab.research.google.com/notebooks/data_table.ipynb>data table notebook</a>'\n",
              "            + ' to learn more about interactive tables.';\n",
              "          element.innerHTML = '';\n",
              "          dataTable['output_type'] = 'display_data';\n",
              "          await google.colab.output.renderOutput(dataTable, element);\n",
              "          const docLink = document.createElement('div');\n",
              "          docLink.innerHTML = docLinkHtml;\n",
              "          element.appendChild(docLink);\n",
              "        }\n",
              "      </script>\n",
              "    </div>\n",
              "  </div>\n",
              "  "
            ]
          },
          "metadata": {},
          "execution_count": 7
        }
      ]
    },
    {
      "cell_type": "markdown",
      "source": [
        "**Step backward**"
      ],
      "metadata": {
        "id": "vX87aZTH1-t-"
      }
    },
    {
      "cell_type": "code",
      "source": [
        "sfs = SFS(RandomForestRegressor(n_estimators=100, random_state=0, n_jobs=-1),\n",
        "          k_features=(1, len(X_train.columns)),\n",
        "          forward=False,\n",
        "          floating=False,\n",
        "          verbose=2,\n",
        "          cv=4,\n",
        "          scoring=\"r2\",\n",
        "          n_jobs=-1).fit(X_train, y_train)"
      ],
      "metadata": {
        "colab": {
          "base_uri": "https://localhost:8080/"
        },
        "id": "WkLxJZ-W03Ga",
        "outputId": "d955c542-e9a7-4eec-b14f-04dd83657d9f"
      },
      "execution_count": 8,
      "outputs": [
        {
          "output_type": "stream",
          "name": "stderr",
          "text": [
            "[Parallel(n_jobs=-1)]: Using backend LokyBackend with 2 concurrent workers.\n",
            "[Parallel(n_jobs=-1)]: Done   3 out of   3 | elapsed:    2.8s finished\n",
            "\n",
            "[2022-08-22 00:17:46] Features: 2/1 -- score: 0.922511246744856[Parallel(n_jobs=-1)]: Using backend LokyBackend with 2 concurrent workers.\n",
            "[Parallel(n_jobs=-1)]: Done   2 out of   2 | elapsed:    1.5s finished\n",
            "\n",
            "[2022-08-22 00:17:47] Features: 1/1 -- score: 0.9168824158474809"
          ]
        }
      ]
    },
    {
      "cell_type": "code",
      "source": [
        "print(sfs.k_feature_names_, sfs.k_feature_idx_, sfs.k_score_)\n",
        "#pd.set_option('max_colwidth', 800)\n",
        "pd.DataFrame.from_dict(sfs.get_metric_dict()).T"
      ],
      "metadata": {
        "colab": {
          "base_uri": "https://localhost:8080/",
          "height": 161
        },
        "id": "JnA7WzVz1Mds",
        "outputId": "17eee5c8-d58f-453b-d741-611f9352616d"
      },
      "execution_count": 9,
      "outputs": [
        {
          "output_type": "stream",
          "name": "stdout",
          "text": [
            "('sepal length (cm)', 'sepal width (cm)', 'petal length (cm)') (0, 1, 2) 0.9359591353205714\n"
          ]
        },
        {
          "output_type": "execute_result",
          "data": {
            "text/plain": [
              "  feature_idx  \\\n",
              "3   (0, 1, 2)   \n",
              "2      (1, 2)   \n",
              "1        (2,)   \n",
              "\n",
              "                                                                         cv_scores  \\\n",
              "3  [0.9468053907037183, 0.9537838344700843, 0.918087182809389, 0.9251601332990941]   \n",
              "2  [0.9447869094074077, 0.9299605745833006, 0.9075452879352417, 0.907752215053474]   \n",
              "1  [0.9585607557507267, 0.9264896181000124, 0.9155693558152211, 0.866909933723963]   \n",
              "\n",
              "  avg_score                                             feature_names  \\\n",
              "3  0.935959  (sepal length (cm), sepal width (cm), petal length (cm))   \n",
              "2  0.922511                     (sepal width (cm), petal length (cm))   \n",
              "1  0.916882                                      (petal length (cm),)   \n",
              "\n",
              "   ci_bound   std_dev   std_err  \n",
              "3  0.023659   0.01476  0.008521  \n",
              "2  0.025263   0.01576  0.009099  \n",
              "1   0.05273  0.032895  0.018992  "
            ],
            "text/html": [
              "\n",
              "  <div id=\"df-cf0e2dc1-6cf9-4c1c-9019-52e15b5d4e39\">\n",
              "    <div class=\"colab-df-container\">\n",
              "      <div>\n",
              "<style scoped>\n",
              "    .dataframe tbody tr th:only-of-type {\n",
              "        vertical-align: middle;\n",
              "    }\n",
              "\n",
              "    .dataframe tbody tr th {\n",
              "        vertical-align: top;\n",
              "    }\n",
              "\n",
              "    .dataframe thead th {\n",
              "        text-align: right;\n",
              "    }\n",
              "</style>\n",
              "<table border=\"1\" class=\"dataframe\">\n",
              "  <thead>\n",
              "    <tr style=\"text-align: right;\">\n",
              "      <th></th>\n",
              "      <th>feature_idx</th>\n",
              "      <th>cv_scores</th>\n",
              "      <th>avg_score</th>\n",
              "      <th>feature_names</th>\n",
              "      <th>ci_bound</th>\n",
              "      <th>std_dev</th>\n",
              "      <th>std_err</th>\n",
              "    </tr>\n",
              "  </thead>\n",
              "  <tbody>\n",
              "    <tr>\n",
              "      <th>3</th>\n",
              "      <td>(0, 1, 2)</td>\n",
              "      <td>[0.9468053907037183, 0.9537838344700843, 0.918087182809389, 0.9251601332990941]</td>\n",
              "      <td>0.935959</td>\n",
              "      <td>(sepal length (cm), sepal width (cm), petal length (cm))</td>\n",
              "      <td>0.023659</td>\n",
              "      <td>0.01476</td>\n",
              "      <td>0.008521</td>\n",
              "    </tr>\n",
              "    <tr>\n",
              "      <th>2</th>\n",
              "      <td>(1, 2)</td>\n",
              "      <td>[0.9447869094074077, 0.9299605745833006, 0.9075452879352417, 0.907752215053474]</td>\n",
              "      <td>0.922511</td>\n",
              "      <td>(sepal width (cm), petal length (cm))</td>\n",
              "      <td>0.025263</td>\n",
              "      <td>0.01576</td>\n",
              "      <td>0.009099</td>\n",
              "    </tr>\n",
              "    <tr>\n",
              "      <th>1</th>\n",
              "      <td>(2,)</td>\n",
              "      <td>[0.9585607557507267, 0.9264896181000124, 0.9155693558152211, 0.866909933723963]</td>\n",
              "      <td>0.916882</td>\n",
              "      <td>(petal length (cm),)</td>\n",
              "      <td>0.05273</td>\n",
              "      <td>0.032895</td>\n",
              "      <td>0.018992</td>\n",
              "    </tr>\n",
              "  </tbody>\n",
              "</table>\n",
              "</div>\n",
              "      <button class=\"colab-df-convert\" onclick=\"convertToInteractive('df-cf0e2dc1-6cf9-4c1c-9019-52e15b5d4e39')\"\n",
              "              title=\"Convert this dataframe to an interactive table.\"\n",
              "              style=\"display:none;\">\n",
              "        \n",
              "  <svg xmlns=\"http://www.w3.org/2000/svg\" height=\"24px\"viewBox=\"0 0 24 24\"\n",
              "       width=\"24px\">\n",
              "    <path d=\"M0 0h24v24H0V0z\" fill=\"none\"/>\n",
              "    <path d=\"M18.56 5.44l.94 2.06.94-2.06 2.06-.94-2.06-.94-.94-2.06-.94 2.06-2.06.94zm-11 1L8.5 8.5l.94-2.06 2.06-.94-2.06-.94L8.5 2.5l-.94 2.06-2.06.94zm10 10l.94 2.06.94-2.06 2.06-.94-2.06-.94-.94-2.06-.94 2.06-2.06.94z\"/><path d=\"M17.41 7.96l-1.37-1.37c-.4-.4-.92-.59-1.43-.59-.52 0-1.04.2-1.43.59L10.3 9.45l-7.72 7.72c-.78.78-.78 2.05 0 2.83L4 21.41c.39.39.9.59 1.41.59.51 0 1.02-.2 1.41-.59l7.78-7.78 2.81-2.81c.8-.78.8-2.07 0-2.86zM5.41 20L4 18.59l7.72-7.72 1.47 1.35L5.41 20z\"/>\n",
              "  </svg>\n",
              "      </button>\n",
              "      \n",
              "  <style>\n",
              "    .colab-df-container {\n",
              "      display:flex;\n",
              "      flex-wrap:wrap;\n",
              "      gap: 12px;\n",
              "    }\n",
              "\n",
              "    .colab-df-convert {\n",
              "      background-color: #E8F0FE;\n",
              "      border: none;\n",
              "      border-radius: 50%;\n",
              "      cursor: pointer;\n",
              "      display: none;\n",
              "      fill: #1967D2;\n",
              "      height: 32px;\n",
              "      padding: 0 0 0 0;\n",
              "      width: 32px;\n",
              "    }\n",
              "\n",
              "    .colab-df-convert:hover {\n",
              "      background-color: #E2EBFA;\n",
              "      box-shadow: 0px 1px 2px rgba(60, 64, 67, 0.3), 0px 1px 3px 1px rgba(60, 64, 67, 0.15);\n",
              "      fill: #174EA6;\n",
              "    }\n",
              "\n",
              "    [theme=dark] .colab-df-convert {\n",
              "      background-color: #3B4455;\n",
              "      fill: #D2E3FC;\n",
              "    }\n",
              "\n",
              "    [theme=dark] .colab-df-convert:hover {\n",
              "      background-color: #434B5C;\n",
              "      box-shadow: 0px 1px 3px 1px rgba(0, 0, 0, 0.15);\n",
              "      filter: drop-shadow(0px 1px 2px rgba(0, 0, 0, 0.3));\n",
              "      fill: #FFFFFF;\n",
              "    }\n",
              "  </style>\n",
              "\n",
              "      <script>\n",
              "        const buttonEl =\n",
              "          document.querySelector('#df-cf0e2dc1-6cf9-4c1c-9019-52e15b5d4e39 button.colab-df-convert');\n",
              "        buttonEl.style.display =\n",
              "          google.colab.kernel.accessAllowed ? 'block' : 'none';\n",
              "\n",
              "        async function convertToInteractive(key) {\n",
              "          const element = document.querySelector('#df-cf0e2dc1-6cf9-4c1c-9019-52e15b5d4e39');\n",
              "          const dataTable =\n",
              "            await google.colab.kernel.invokeFunction('convertToInteractive',\n",
              "                                                     [key], {});\n",
              "          if (!dataTable) return;\n",
              "\n",
              "          const docLinkHtml = 'Like what you see? Visit the ' +\n",
              "            '<a target=\"_blank\" href=https://colab.research.google.com/notebooks/data_table.ipynb>data table notebook</a>'\n",
              "            + ' to learn more about interactive tables.';\n",
              "          element.innerHTML = '';\n",
              "          dataTable['output_type'] = 'display_data';\n",
              "          await google.colab.output.renderOutput(dataTable, element);\n",
              "          const docLink = document.createElement('div');\n",
              "          docLink.innerHTML = docLinkHtml;\n",
              "          element.appendChild(docLink);\n",
              "        }\n",
              "      </script>\n",
              "    </div>\n",
              "  </div>\n",
              "  "
            ]
          },
          "metadata": {},
          "execution_count": 9
        }
      ]
    },
    {
      "cell_type": "markdown",
      "source": [
        "**Exhaustive**"
      ],
      "metadata": {
        "id": "DRyx2s8N2Fqy"
      }
    },
    {
      "cell_type": "code",
      "source": [
        "#WARNING: Can run REALLY long\n",
        "print(str(datetime.now()))\n",
        "efs = EFS(RandomForestRegressor(n_estimators=100, random_state=0, n_jobs=-1),\n",
        "          min_features=1,\n",
        "          max_features=len(X_train.columns),\n",
        "#          verbose=2,\n",
        "          cv=4,\n",
        "          scoring=\"r2\",\n",
        "          n_jobs=-1).fit(X_train, y_train)\n",
        "print('\\n', str(datetime.now()))"
      ],
      "metadata": {
        "colab": {
          "base_uri": "https://localhost:8080/"
        },
        "id": "EEPZ7j642J2L",
        "outputId": "907255de-65b4-4f2b-c707-7ef4407ed0f2"
      },
      "execution_count": 10,
      "outputs": [
        {
          "output_type": "stream",
          "name": "stdout",
          "text": [
            "2022-08-22 00:17:47.848991\n"
          ]
        },
        {
          "output_type": "stream",
          "name": "stderr",
          "text": [
            "Features: 7/7"
          ]
        },
        {
          "output_type": "stream",
          "name": "stdout",
          "text": [
            "\n",
            " 2022-08-22 00:17:53.493227\n"
          ]
        }
      ]
    },
    {
      "cell_type": "code",
      "source": [
        "print(efs.best_feature_names_, efs.best_idx_, efs.best_score_)\n",
        "#pd.set_option('max_colwidth', 800)\n",
        "pd.DataFrame.from_dict(efs.get_metric_dict()).T"
      ],
      "metadata": {
        "colab": {
          "base_uri": "https://localhost:8080/",
          "height": 286
        },
        "id": "8e02CO1w3QsZ",
        "outputId": "6f91c472-f83c-4563-89fc-a39ed6a9d794"
      },
      "execution_count": 11,
      "outputs": [
        {
          "output_type": "stream",
          "name": "stdout",
          "text": [
            "('sepal length (cm)', 'sepal width (cm)', 'petal length (cm)') (0, 1, 2) 0.9359591353205714\n"
          ]
        },
        {
          "output_type": "execute_result",
          "data": {
            "text/plain": [
              "  feature_idx  \\\n",
              "0        (0,)   \n",
              "1        (1,)   \n",
              "2        (2,)   \n",
              "3      (0, 1)   \n",
              "4      (0, 2)   \n",
              "5      (1, 2)   \n",
              "6   (0, 1, 2)   \n",
              "\n",
              "                                                                             cv_scores  \\\n",
              "0     [0.5694916151022711, 0.5188652992195764, 0.702180331808383, 0.24869411370592776]   \n",
              "1  [0.35346655980304187, -0.3449490392815071, -0.2065209400551995, 0.2594386549933867]   \n",
              "2      [0.9585607557507269, 0.9264896181000124, 0.9155693558152211, 0.866909933723963]   \n",
              "3     [0.7735965516618359, 0.7639874826783061, 0.8402338202907405, 0.6269140273304672]   \n",
              "4     [0.9341395749281388, 0.9261415695350791, 0.8880463723810593, 0.8929603776326278]   \n",
              "5      [0.9447869094074077, 0.9299605745833006, 0.9075452879352417, 0.907752215053474]   \n",
              "6      [0.9468053907037183, 0.9537838344700843, 0.918087182809389, 0.9251601332990941]   \n",
              "\n",
              "  avg_score                                             feature_names  \\\n",
              "0  0.509808                                      (sepal length (cm),)   \n",
              "1  0.015359                                       (sepal width (cm),)   \n",
              "2  0.916882                                      (petal length (cm),)   \n",
              "3  0.751183                     (sepal length (cm), sepal width (cm))   \n",
              "4  0.910322                    (sepal length (cm), petal length (cm))   \n",
              "5  0.922511                     (sepal width (cm), petal length (cm))   \n",
              "6  0.935959  (sepal length (cm), sepal width (cm), petal length (cm))   \n",
              "\n",
              "   ci_bound   std_dev   std_err  \n",
              "0  0.264409  0.164948  0.095233  \n",
              "1  0.476158  0.297046  0.171499  \n",
              "2   0.05273  0.032895  0.018992  \n",
              "3  0.124268  0.077523  0.044758  \n",
              "4  0.032211  0.020095  0.011602  \n",
              "5  0.025263   0.01576  0.009099  \n",
              "6  0.023659   0.01476  0.008521  "
            ],
            "text/html": [
              "\n",
              "  <div id=\"df-73cbe48f-ff5a-44c5-a4e3-1e6522eee1fa\">\n",
              "    <div class=\"colab-df-container\">\n",
              "      <div>\n",
              "<style scoped>\n",
              "    .dataframe tbody tr th:only-of-type {\n",
              "        vertical-align: middle;\n",
              "    }\n",
              "\n",
              "    .dataframe tbody tr th {\n",
              "        vertical-align: top;\n",
              "    }\n",
              "\n",
              "    .dataframe thead th {\n",
              "        text-align: right;\n",
              "    }\n",
              "</style>\n",
              "<table border=\"1\" class=\"dataframe\">\n",
              "  <thead>\n",
              "    <tr style=\"text-align: right;\">\n",
              "      <th></th>\n",
              "      <th>feature_idx</th>\n",
              "      <th>cv_scores</th>\n",
              "      <th>avg_score</th>\n",
              "      <th>feature_names</th>\n",
              "      <th>ci_bound</th>\n",
              "      <th>std_dev</th>\n",
              "      <th>std_err</th>\n",
              "    </tr>\n",
              "  </thead>\n",
              "  <tbody>\n",
              "    <tr>\n",
              "      <th>0</th>\n",
              "      <td>(0,)</td>\n",
              "      <td>[0.5694916151022711, 0.5188652992195764, 0.702180331808383, 0.24869411370592776]</td>\n",
              "      <td>0.509808</td>\n",
              "      <td>(sepal length (cm),)</td>\n",
              "      <td>0.264409</td>\n",
              "      <td>0.164948</td>\n",
              "      <td>0.095233</td>\n",
              "    </tr>\n",
              "    <tr>\n",
              "      <th>1</th>\n",
              "      <td>(1,)</td>\n",
              "      <td>[0.35346655980304187, -0.3449490392815071, -0.2065209400551995, 0.2594386549933867]</td>\n",
              "      <td>0.015359</td>\n",
              "      <td>(sepal width (cm),)</td>\n",
              "      <td>0.476158</td>\n",
              "      <td>0.297046</td>\n",
              "      <td>0.171499</td>\n",
              "    </tr>\n",
              "    <tr>\n",
              "      <th>2</th>\n",
              "      <td>(2,)</td>\n",
              "      <td>[0.9585607557507269, 0.9264896181000124, 0.9155693558152211, 0.866909933723963]</td>\n",
              "      <td>0.916882</td>\n",
              "      <td>(petal length (cm),)</td>\n",
              "      <td>0.05273</td>\n",
              "      <td>0.032895</td>\n",
              "      <td>0.018992</td>\n",
              "    </tr>\n",
              "    <tr>\n",
              "      <th>3</th>\n",
              "      <td>(0, 1)</td>\n",
              "      <td>[0.7735965516618359, 0.7639874826783061, 0.8402338202907405, 0.6269140273304672]</td>\n",
              "      <td>0.751183</td>\n",
              "      <td>(sepal length (cm), sepal width (cm))</td>\n",
              "      <td>0.124268</td>\n",
              "      <td>0.077523</td>\n",
              "      <td>0.044758</td>\n",
              "    </tr>\n",
              "    <tr>\n",
              "      <th>4</th>\n",
              "      <td>(0, 2)</td>\n",
              "      <td>[0.9341395749281388, 0.9261415695350791, 0.8880463723810593, 0.8929603776326278]</td>\n",
              "      <td>0.910322</td>\n",
              "      <td>(sepal length (cm), petal length (cm))</td>\n",
              "      <td>0.032211</td>\n",
              "      <td>0.020095</td>\n",
              "      <td>0.011602</td>\n",
              "    </tr>\n",
              "    <tr>\n",
              "      <th>5</th>\n",
              "      <td>(1, 2)</td>\n",
              "      <td>[0.9447869094074077, 0.9299605745833006, 0.9075452879352417, 0.907752215053474]</td>\n",
              "      <td>0.922511</td>\n",
              "      <td>(sepal width (cm), petal length (cm))</td>\n",
              "      <td>0.025263</td>\n",
              "      <td>0.01576</td>\n",
              "      <td>0.009099</td>\n",
              "    </tr>\n",
              "    <tr>\n",
              "      <th>6</th>\n",
              "      <td>(0, 1, 2)</td>\n",
              "      <td>[0.9468053907037183, 0.9537838344700843, 0.918087182809389, 0.9251601332990941]</td>\n",
              "      <td>0.935959</td>\n",
              "      <td>(sepal length (cm), sepal width (cm), petal length (cm))</td>\n",
              "      <td>0.023659</td>\n",
              "      <td>0.01476</td>\n",
              "      <td>0.008521</td>\n",
              "    </tr>\n",
              "  </tbody>\n",
              "</table>\n",
              "</div>\n",
              "      <button class=\"colab-df-convert\" onclick=\"convertToInteractive('df-73cbe48f-ff5a-44c5-a4e3-1e6522eee1fa')\"\n",
              "              title=\"Convert this dataframe to an interactive table.\"\n",
              "              style=\"display:none;\">\n",
              "        \n",
              "  <svg xmlns=\"http://www.w3.org/2000/svg\" height=\"24px\"viewBox=\"0 0 24 24\"\n",
              "       width=\"24px\">\n",
              "    <path d=\"M0 0h24v24H0V0z\" fill=\"none\"/>\n",
              "    <path d=\"M18.56 5.44l.94 2.06.94-2.06 2.06-.94-2.06-.94-.94-2.06-.94 2.06-2.06.94zm-11 1L8.5 8.5l.94-2.06 2.06-.94-2.06-.94L8.5 2.5l-.94 2.06-2.06.94zm10 10l.94 2.06.94-2.06 2.06-.94-2.06-.94-.94-2.06-.94 2.06-2.06.94z\"/><path d=\"M17.41 7.96l-1.37-1.37c-.4-.4-.92-.59-1.43-.59-.52 0-1.04.2-1.43.59L10.3 9.45l-7.72 7.72c-.78.78-.78 2.05 0 2.83L4 21.41c.39.39.9.59 1.41.59.51 0 1.02-.2 1.41-.59l7.78-7.78 2.81-2.81c.8-.78.8-2.07 0-2.86zM5.41 20L4 18.59l7.72-7.72 1.47 1.35L5.41 20z\"/>\n",
              "  </svg>\n",
              "      </button>\n",
              "      \n",
              "  <style>\n",
              "    .colab-df-container {\n",
              "      display:flex;\n",
              "      flex-wrap:wrap;\n",
              "      gap: 12px;\n",
              "    }\n",
              "\n",
              "    .colab-df-convert {\n",
              "      background-color: #E8F0FE;\n",
              "      border: none;\n",
              "      border-radius: 50%;\n",
              "      cursor: pointer;\n",
              "      display: none;\n",
              "      fill: #1967D2;\n",
              "      height: 32px;\n",
              "      padding: 0 0 0 0;\n",
              "      width: 32px;\n",
              "    }\n",
              "\n",
              "    .colab-df-convert:hover {\n",
              "      background-color: #E2EBFA;\n",
              "      box-shadow: 0px 1px 2px rgba(60, 64, 67, 0.3), 0px 1px 3px 1px rgba(60, 64, 67, 0.15);\n",
              "      fill: #174EA6;\n",
              "    }\n",
              "\n",
              "    [theme=dark] .colab-df-convert {\n",
              "      background-color: #3B4455;\n",
              "      fill: #D2E3FC;\n",
              "    }\n",
              "\n",
              "    [theme=dark] .colab-df-convert:hover {\n",
              "      background-color: #434B5C;\n",
              "      box-shadow: 0px 1px 3px 1px rgba(0, 0, 0, 0.15);\n",
              "      filter: drop-shadow(0px 1px 2px rgba(0, 0, 0, 0.3));\n",
              "      fill: #FFFFFF;\n",
              "    }\n",
              "  </style>\n",
              "\n",
              "      <script>\n",
              "        const buttonEl =\n",
              "          document.querySelector('#df-73cbe48f-ff5a-44c5-a4e3-1e6522eee1fa button.colab-df-convert');\n",
              "        buttonEl.style.display =\n",
              "          google.colab.kernel.accessAllowed ? 'block' : 'none';\n",
              "\n",
              "        async function convertToInteractive(key) {\n",
              "          const element = document.querySelector('#df-73cbe48f-ff5a-44c5-a4e3-1e6522eee1fa');\n",
              "          const dataTable =\n",
              "            await google.colab.kernel.invokeFunction('convertToInteractive',\n",
              "                                                     [key], {});\n",
              "          if (!dataTable) return;\n",
              "\n",
              "          const docLinkHtml = 'Like what you see? Visit the ' +\n",
              "            '<a target=\"_blank\" href=https://colab.research.google.com/notebooks/data_table.ipynb>data table notebook</a>'\n",
              "            + ' to learn more about interactive tables.';\n",
              "          element.innerHTML = '';\n",
              "          dataTable['output_type'] = 'display_data';\n",
              "          await google.colab.output.renderOutput(dataTable, element);\n",
              "          const docLink = document.createElement('div');\n",
              "          docLink.innerHTML = docLinkHtml;\n",
              "          element.appendChild(docLink);\n",
              "        }\n",
              "      </script>\n",
              "    </div>\n",
              "  </div>\n",
              "  "
            ]
          },
          "metadata": {},
          "execution_count": 11
        }
      ]
    },
    {
      "cell_type": "code",
      "source": [
        "plot_sfs(sfs.get_metric_dict(), kind = \"std_dev\")"
      ],
      "metadata": {
        "colab": {
          "base_uri": "https://localhost:8080/",
          "height": 314
        },
        "id": "0fEjInTY3n_z",
        "outputId": "7a97094c-2f6a-4899-c876-3236dc56618c"
      },
      "execution_count": 12,
      "outputs": [
        {
          "output_type": "execute_result",
          "data": {
            "text/plain": [
              "(<Figure size 432x288 with 1 Axes>,\n",
              " <matplotlib.axes._subplots.AxesSubplot at 0x7f4fcddfdcd0>)"
            ]
          },
          "metadata": {},
          "execution_count": 12
        },
        {
          "output_type": "display_data",
          "data": {
            "text/plain": [
              "<Figure size 432x288 with 1 Axes>"
            ],
            "image/png": "[encoded data removed]"
          },
          "metadata": {
            "needs_background": "light"
          }
        }
      ]
    },
    {
      "cell_type": "code",
      "source": [
        "plot_sfs(efs.get_metric_dict(), kind = \"std_dev\")"
      ],
      "metadata": {
        "colab": {
          "base_uri": "https://localhost:8080/",
          "height": 316
        },
        "id": "WML7H4P84_YA",
        "outputId": "e3033b69-0c2e-44a4-e216-76113c4d6d1c"
      },
      "execution_count": 13,
      "outputs": [
        {
          "output_type": "execute_result",
          "data": {
            "text/plain": [
              "(<Figure size 432x288 with 1 Axes>,\n",
              " <matplotlib.axes._subplots.AxesSubplot at 0x7f4fcccf6550>)"
            ]
          },
          "metadata": {},
          "execution_count": 13
        },
        {
          "output_type": "display_data",
          "data": {
            "text/plain": [
              "<Figure size 432x288 with 1 Axes>"
            ],
            "image/png": "[encoded data removed]"
          },
          "metadata": {
            "needs_background": "light"
          }
        }
      ]
    }
  ]
}