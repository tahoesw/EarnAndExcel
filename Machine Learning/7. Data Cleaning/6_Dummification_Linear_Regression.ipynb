{
  "nbformat": 4,
  "nbformat_minor": 0,
  "metadata": {
    "colab": {
      "name": "6. Dummification Linear Regression.ipynb",
      "provenance": [],
      "collapsed_sections": []
    },
    "kernelspec": {
      "name": "python3",
      "display_name": "Python 3"
    },
    "language_info": {
      "name": "python"
    }
  },
  "cells": [
    {
      "cell_type": "code",
      "execution_count": 1,
      "metadata": {
        "id": "VzU7zerEKk6H"
      },
      "outputs": [],
      "source": [
        "import numpy as np\n",
        "import pandas as pd\n",
        "import seaborn as sns\n",
        "from sklearn import linear_model\n",
        "import warnings\n",
        "warnings.filterwarnings(\"ignore\")"
      ]
    },
    {
      "cell_type": "markdown",
      "source": [
        "**Read data**"
      ],
      "metadata": {
        "id": "XQ0rM_TmPUl9"
      }
    },
    {
      "cell_type": "code",
      "source": [
        "# Uploaded from C:\\Users\\wel51x\\Box\\MyBox\\Data\\\n",
        "df = pd.read_csv(\"nba.csv\")\n",
        "dummies_df = df[[\"Year\", \"Pos\", \"TRB\", \"PTS\"]]\n",
        "dummies_df = dummies_df[(dummies_df.Pos == \"PG\") | (dummies_df.Pos == \"C\") | (dummies_df.Pos == \"SF\") | (dummies_df.Pos == \"SG\") | (dummies_df.Pos == \"PF\")]\n",
        "dummies_df"
      ],
      "metadata": {
        "id": "7-BQ6JeRMR2m",
        "colab": {
          "base_uri": "https://localhost:8080/",
          "height": 424
        },
        "outputId": "3d622706-fc9f-4fbb-ed8b-760439195b1b"
      },
      "execution_count": 2,
      "outputs": [
        {
          "output_type": "execute_result",
          "data": {
            "text/plain": [
              "         Year Pos    TRB    PTS\n",
              "1      1950.0  SG    NaN  279.0\n",
              "2      1950.0  SF    NaN  438.0\n",
              "11     1950.0  PG    NaN  242.0\n",
              "13     1950.0  SF    NaN  612.0\n",
              "15     1950.0   C    NaN  779.0\n",
              "...       ...  ..    ...    ...\n",
              "24686  2017.0  PF  405.0  639.0\n",
              "24687  2017.0   C  124.0  178.0\n",
              "24688  2017.0   C   35.0   23.0\n",
              "24689  2017.0  SF  125.0  240.0\n",
              "24690  2017.0   C  159.0  284.0\n",
              "\n",
              "[23883 rows x 4 columns]"
            ],
            "text/html": [
              "\n",
              "  <div id=\"df-0a9c9688-3ade-4f3e-90f4-2b95f502dbcf\">\n",
              "    <div class=\"colab-df-container\">\n",
              "      <div>\n",
              "<style scoped>\n",
              "    .dataframe tbody tr th:only-of-type {\n",
              "        vertical-align: middle;\n",
              "    }\n",
              "\n",
              "    .dataframe tbody tr th {\n",
              "        vertical-align: top;\n",
              "    }\n",
              "\n",
              "    .dataframe thead th {\n",
              "        text-align: right;\n",
              "    }\n",
              "</style>\n",
              "<table border=\"1\" class=\"dataframe\">\n",
              "  <thead>\n",
              "    <tr style=\"text-align: right;\">\n",
              "      <th></th>\n",
              "      <th>Year</th>\n",
              "      <th>Pos</th>\n",
              "      <th>TRB</th>\n",
              "      <th>PTS</th>\n",
              "    </tr>\n",
              "  </thead>\n",
              "  <tbody>\n",
              "    <tr>\n",
              "      <th>1</th>\n",
              "      <td>1950.0</td>\n",
              "      <td>SG</td>\n",
              "      <td>NaN</td>\n",
              "      <td>279.0</td>\n",
              "    </tr>\n",
              "    <tr>\n",
              "      <th>2</th>\n",
              "      <td>1950.0</td>\n",
              "      <td>SF</td>\n",
              "      <td>NaN</td>\n",
              "      <td>438.0</td>\n",
              "    </tr>\n",
              "    <tr>\n",
              "      <th>11</th>\n",
              "      <td>1950.0</td>\n",
              "      <td>PG</td>\n",
              "      <td>NaN</td>\n",
              "      <td>242.0</td>\n",
              "    </tr>\n",
              "    <tr>\n",
              "      <th>13</th>\n",
              "      <td>1950.0</td>\n",
              "      <td>SF</td>\n",
              "      <td>NaN</td>\n",
              "      <td>612.0</td>\n",
              "    </tr>\n",
              "    <tr>\n",
              "      <th>15</th>\n",
              "      <td>1950.0</td>\n",
              "      <td>C</td>\n",
              "      <td>NaN</td>\n",
              "      <td>779.0</td>\n",
              "    </tr>\n",
              "    <tr>\n",
              "      <th>...</th>\n",
              "      <td>...</td>\n",
              "      <td>...</td>\n",
              "      <td>...</td>\n",
              "      <td>...</td>\n",
              "    </tr>\n",
              "    <tr>\n",
              "      <th>24686</th>\n",
              "      <td>2017.0</td>\n",
              "      <td>PF</td>\n",
              "      <td>405.0</td>\n",
              "      <td>639.0</td>\n",
              "    </tr>\n",
              "    <tr>\n",
              "      <th>24687</th>\n",
              "      <td>2017.0</td>\n",
              "      <td>C</td>\n",
              "      <td>124.0</td>\n",
              "      <td>178.0</td>\n",
              "    </tr>\n",
              "    <tr>\n",
              "      <th>24688</th>\n",
              "      <td>2017.0</td>\n",
              "      <td>C</td>\n",
              "      <td>35.0</td>\n",
              "      <td>23.0</td>\n",
              "    </tr>\n",
              "    <tr>\n",
              "      <th>24689</th>\n",
              "      <td>2017.0</td>\n",
              "      <td>SF</td>\n",
              "      <td>125.0</td>\n",
              "      <td>240.0</td>\n",
              "    </tr>\n",
              "    <tr>\n",
              "      <th>24690</th>\n",
              "      <td>2017.0</td>\n",
              "      <td>C</td>\n",
              "      <td>159.0</td>\n",
              "      <td>284.0</td>\n",
              "    </tr>\n",
              "  </tbody>\n",
              "</table>\n",
              "<p>23883 rows × 4 columns</p>\n",
              "</div>\n",
              "      <button class=\"colab-df-convert\" onclick=\"convertToInteractive('df-0a9c9688-3ade-4f3e-90f4-2b95f502dbcf')\"\n",
              "              title=\"Convert this dataframe to an interactive table.\"\n",
              "              style=\"display:none;\">\n",
              "        \n",
              "  <svg xmlns=\"http://www.w3.org/2000/svg\" height=\"24px\"viewBox=\"0 0 24 24\"\n",
              "       width=\"24px\">\n",
              "    <path d=\"M0 0h24v24H0V0z\" fill=\"none\"/>\n",
              "    <path d=\"M18.56 5.44l.94 2.06.94-2.06 2.06-.94-2.06-.94-.94-2.06-.94 2.06-2.06.94zm-11 1L8.5 8.5l.94-2.06 2.06-.94-2.06-.94L8.5 2.5l-.94 2.06-2.06.94zm10 10l.94 2.06.94-2.06 2.06-.94-2.06-.94-.94-2.06-.94 2.06-2.06.94z\"/><path d=\"M17.41 7.96l-1.37-1.37c-.4-.4-.92-.59-1.43-.59-.52 0-1.04.2-1.43.59L10.3 9.45l-7.72 7.72c-.78.78-.78 2.05 0 2.83L4 21.41c.39.39.9.59 1.41.59.51 0 1.02-.2 1.41-.59l7.78-7.78 2.81-2.81c.8-.78.8-2.07 0-2.86zM5.41 20L4 18.59l7.72-7.72 1.47 1.35L5.41 20z\"/>\n",
              "  </svg>\n",
              "      </button>\n",
              "      \n",
              "  <style>\n",
              "    .colab-df-container {\n",
              "      display:flex;\n",
              "      flex-wrap:wrap;\n",
              "      gap: 12px;\n",
              "    }\n",
              "\n",
              "    .colab-df-convert {\n",
              "      background-color: #E8F0FE;\n",
              "      border: none;\n",
              "      border-radius: 50%;\n",
              "      cursor: pointer;\n",
              "      display: none;\n",
              "      fill: #1967D2;\n",
              "      height: 32px;\n",
              "      padding: 0 0 0 0;\n",
              "      width: 32px;\n",
              "    }\n",
              "\n",
              "    .colab-df-convert:hover {\n",
              "      background-color: #E2EBFA;\n",
              "      box-shadow: 0px 1px 2px rgba(60, 64, 67, 0.3), 0px 1px 3px 1px rgba(60, 64, 67, 0.15);\n",
              "      fill: #174EA6;\n",
              "    }\n",
              "\n",
              "    [theme=dark] .colab-df-convert {\n",
              "      background-color: #3B4455;\n",
              "      fill: #D2E3FC;\n",
              "    }\n",
              "\n",
              "    [theme=dark] .colab-df-convert:hover {\n",
              "      background-color: #434B5C;\n",
              "      box-shadow: 0px 1px 3px 1px rgba(0, 0, 0, 0.15);\n",
              "      filter: drop-shadow(0px 1px 2px rgba(0, 0, 0, 0.3));\n",
              "      fill: #FFFFFF;\n",
              "    }\n",
              "  </style>\n",
              "\n",
              "      <script>\n",
              "        const buttonEl =\n",
              "          document.querySelector('#df-0a9c9688-3ade-4f3e-90f4-2b95f502dbcf button.colab-df-convert');\n",
              "        buttonEl.style.display =\n",
              "          google.colab.kernel.accessAllowed ? 'block' : 'none';\n",
              "\n",
              "        async function convertToInteractive(key) {\n",
              "          const element = document.querySelector('#df-0a9c9688-3ade-4f3e-90f4-2b95f502dbcf');\n",
              "          const dataTable =\n",
              "            await google.colab.kernel.invokeFunction('convertToInteractive',\n",
              "                                                     [key], {});\n",
              "          if (!dataTable) return;\n",
              "\n",
              "          const docLinkHtml = 'Like what you see? Visit the ' +\n",
              "            '<a target=\"_blank\" href=https://colab.research.google.com/notebooks/data_table.ipynb>data table notebook</a>'\n",
              "            + ' to learn more about interactive tables.';\n",
              "          element.innerHTML = '';\n",
              "          dataTable['output_type'] = 'display_data';\n",
              "          await google.colab.output.renderOutput(dataTable, element);\n",
              "          const docLink = document.createElement('div');\n",
              "          docLink.innerHTML = docLinkHtml;\n",
              "          element.appendChild(docLink);\n",
              "        }\n",
              "      </script>\n",
              "    </div>\n",
              "  </div>\n",
              "  "
            ]
          },
          "metadata": {},
          "execution_count": 2
        }
      ]
    },
    {
      "cell_type": "code",
      "source": [
        "print(dummies_df.Pos.value_counts())\n",
        "#sns.set(rc = {'figure.figsize':(5,4)})\n",
        "sns.barplot(data=dummies_df, x=\"Pos\", y=\"PTS\")"
      ],
      "metadata": {
        "colab": {
          "base_uri": "https://localhost:8080/",
          "height": 402
        },
        "id": "L84nNybivBgw",
        "outputId": "ea812b3c-e55b-4bbd-f795-5e18597ed23d"
      },
      "execution_count": 3,
      "outputs": [
        {
          "output_type": "stream",
          "name": "stdout",
          "text": [
            "PF    4966\n",
            "SG    4811\n",
            "C     4759\n",
            "SF    4699\n",
            "PG    4648\n",
            "Name: Pos, dtype: int64\n"
          ]
        },
        {
          "output_type": "execute_result",
          "data": {
            "text/plain": [
              "<matplotlib.axes._subplots.AxesSubplot at 0x7ff4df406c10>"
            ]
          },
          "metadata": {},
          "execution_count": 3
        },
        {
          "output_type": "display_data",
          "data": {
            "text/plain": [
              "<Figure size 432x288 with 1 Axes>"
            ],
            "image/png": "[encoded data removed]"
          },
          "metadata": {
            "needs_background": "light"
          }
        }
      ]
    },
    {
      "cell_type": "markdown",
      "source": [
        "**Clean data and dummify position**"
      ],
      "metadata": {
        "id": "wM6w3PQCvlW5"
      }
    },
    {
      "cell_type": "code",
      "source": [
        "dummies = pd.get_dummies(dummies_df.Pos)\n",
        "dummies.drop(\"SG\", axis = 1, inplace=True)\n",
        "dummies_df = dummies_df.join(dummies)\n",
        "dummies_df.drop(\"Pos\", axis = 1, inplace=True)\n",
        "dummies_df"
      ],
      "metadata": {
        "colab": {
          "base_uri": "https://localhost:8080/",
          "height": 424
        },
        "id": "4pRAS-flrXdd",
        "outputId": "f5cbd2cf-ccb3-4472-b1a2-24590da36a37"
      },
      "execution_count": 4,
      "outputs": [
        {
          "output_type": "execute_result",
          "data": {
            "text/plain": [
              "         Year    TRB    PTS  C  PF  PG  SF\n",
              "1      1950.0    NaN  279.0  0   0   0   0\n",
              "2      1950.0    NaN  438.0  0   0   0   1\n",
              "11     1950.0    NaN  242.0  0   0   1   0\n",
              "13     1950.0    NaN  612.0  0   0   0   1\n",
              "15     1950.0    NaN  779.0  1   0   0   0\n",
              "...       ...    ...    ... ..  ..  ..  ..\n",
              "24686  2017.0  405.0  639.0  0   1   0   0\n",
              "24687  2017.0  124.0  178.0  1   0   0   0\n",
              "24688  2017.0   35.0   23.0  1   0   0   0\n",
              "24689  2017.0  125.0  240.0  0   0   0   1\n",
              "24690  2017.0  159.0  284.0  1   0   0   0\n",
              "\n",
              "[23883 rows x 7 columns]"
            ],
            "text/html": [
              "\n",
              "  <div id=\"df-00e7526f-e1c9-4269-bf0e-9af8e8a78a91\">\n",
              "    <div class=\"colab-df-container\">\n",
              "      <div>\n",
              "<style scoped>\n",
              "    .dataframe tbody tr th:only-of-type {\n",
              "        vertical-align: middle;\n",
              "    }\n",
              "\n",
              "    .dataframe tbody tr th {\n",
              "        vertical-align: top;\n",
              "    }\n",
              "\n",
              "    .dataframe thead th {\n",
              "        text-align: right;\n",
              "    }\n",
              "</style>\n",
              "<table border=\"1\" class=\"dataframe\">\n",
              "  <thead>\n",
              "    <tr style=\"text-align: right;\">\n",
              "      <th></th>\n",
              "      <th>Year</th>\n",
              "      <th>TRB</th>\n",
              "      <th>PTS</th>\n",
              "      <th>C</th>\n",
              "      <th>PF</th>\n",
              "      <th>PG</th>\n",
              "      <th>SF</th>\n",
              "    </tr>\n",
              "  </thead>\n",
              "  <tbody>\n",
              "    <tr>\n",
              "      <th>1</th>\n",
              "      <td>1950.0</td>\n",
              "      <td>NaN</td>\n",
              "      <td>279.0</td>\n",
              "      <td>0</td>\n",
              "      <td>0</td>\n",
              "      <td>0</td>\n",
              "      <td>0</td>\n",
              "    </tr>\n",
              "    <tr>\n",
              "      <th>2</th>\n",
              "      <td>1950.0</td>\n",
              "      <td>NaN</td>\n",
              "      <td>438.0</td>\n",
              "      <td>0</td>\n",
              "      <td>0</td>\n",
              "      <td>0</td>\n",
              "      <td>1</td>\n",
              "    </tr>\n",
              "    <tr>\n",
              "      <th>11</th>\n",
              "      <td>1950.0</td>\n",
              "      <td>NaN</td>\n",
              "      <td>242.0</td>\n",
              "      <td>0</td>\n",
              "      <td>0</td>\n",
              "      <td>1</td>\n",
              "      <td>0</td>\n",
              "    </tr>\n",
              "    <tr>\n",
              "      <th>13</th>\n",
              "      <td>1950.0</td>\n",
              "      <td>NaN</td>\n",
              "      <td>612.0</td>\n",
              "      <td>0</td>\n",
              "      <td>0</td>\n",
              "      <td>0</td>\n",
              "      <td>1</td>\n",
              "    </tr>\n",
              "    <tr>\n",
              "      <th>15</th>\n",
              "      <td>1950.0</td>\n",
              "      <td>NaN</td>\n",
              "      <td>779.0</td>\n",
              "      <td>1</td>\n",
              "      <td>0</td>\n",
              "      <td>0</td>\n",
              "      <td>0</td>\n",
              "    </tr>\n",
              "    <tr>\n",
              "      <th>...</th>\n",
              "      <td>...</td>\n",
              "      <td>...</td>\n",
              "      <td>...</td>\n",
              "      <td>...</td>\n",
              "      <td>...</td>\n",
              "      <td>...</td>\n",
              "      <td>...</td>\n",
              "    </tr>\n",
              "    <tr>\n",
              "      <th>24686</th>\n",
              "      <td>2017.0</td>\n",
              "      <td>405.0</td>\n",
              "      <td>639.0</td>\n",
              "      <td>0</td>\n",
              "      <td>1</td>\n",
              "      <td>0</td>\n",
              "      <td>0</td>\n",
              "    </tr>\n",
              "    <tr>\n",
              "      <th>24687</th>\n",
              "      <td>2017.0</td>\n",
              "      <td>124.0</td>\n",
              "      <td>178.0</td>\n",
              "      <td>1</td>\n",
              "      <td>0</td>\n",
              "      <td>0</td>\n",
              "      <td>0</td>\n",
              "    </tr>\n",
              "    <tr>\n",
              "      <th>24688</th>\n",
              "      <td>2017.0</td>\n",
              "      <td>35.0</td>\n",
              "      <td>23.0</td>\n",
              "      <td>1</td>\n",
              "      <td>0</td>\n",
              "      <td>0</td>\n",
              "      <td>0</td>\n",
              "    </tr>\n",
              "    <tr>\n",
              "      <th>24689</th>\n",
              "      <td>2017.0</td>\n",
              "      <td>125.0</td>\n",
              "      <td>240.0</td>\n",
              "      <td>0</td>\n",
              "      <td>0</td>\n",
              "      <td>0</td>\n",
              "      <td>1</td>\n",
              "    </tr>\n",
              "    <tr>\n",
              "      <th>24690</th>\n",
              "      <td>2017.0</td>\n",
              "      <td>159.0</td>\n",
              "      <td>284.0</td>\n",
              "      <td>1</td>\n",
              "      <td>0</td>\n",
              "      <td>0</td>\n",
              "      <td>0</td>\n",
              "    </tr>\n",
              "  </tbody>\n",
              "</table>\n",
              "<p>23883 rows × 7 columns</p>\n",
              "</div>\n",
              "      <button class=\"colab-df-convert\" onclick=\"convertToInteractive('df-00e7526f-e1c9-4269-bf0e-9af8e8a78a91')\"\n",
              "              title=\"Convert this dataframe to an interactive table.\"\n",
              "              style=\"display:none;\">\n",
              "        \n",
              "  <svg xmlns=\"http://www.w3.org/2000/svg\" height=\"24px\"viewBox=\"0 0 24 24\"\n",
              "       width=\"24px\">\n",
              "    <path d=\"M0 0h24v24H0V0z\" fill=\"none\"/>\n",
              "    <path d=\"M18.56 5.44l.94 2.06.94-2.06 2.06-.94-2.06-.94-.94-2.06-.94 2.06-2.06.94zm-11 1L8.5 8.5l.94-2.06 2.06-.94-2.06-.94L8.5 2.5l-.94 2.06-2.06.94zm10 10l.94 2.06.94-2.06 2.06-.94-2.06-.94-.94-2.06-.94 2.06-2.06.94z\"/><path d=\"M17.41 7.96l-1.37-1.37c-.4-.4-.92-.59-1.43-.59-.52 0-1.04.2-1.43.59L10.3 9.45l-7.72 7.72c-.78.78-.78 2.05 0 2.83L4 21.41c.39.39.9.59 1.41.59.51 0 1.02-.2 1.41-.59l7.78-7.78 2.81-2.81c.8-.78.8-2.07 0-2.86zM5.41 20L4 18.59l7.72-7.72 1.47 1.35L5.41 20z\"/>\n",
              "  </svg>\n",
              "      </button>\n",
              "      \n",
              "  <style>\n",
              "    .colab-df-container {\n",
              "      display:flex;\n",
              "      flex-wrap:wrap;\n",
              "      gap: 12px;\n",
              "    }\n",
              "\n",
              "    .colab-df-convert {\n",
              "      background-color: #E8F0FE;\n",
              "      border: none;\n",
              "      border-radius: 50%;\n",
              "      cursor: pointer;\n",
              "      display: none;\n",
              "      fill: #1967D2;\n",
              "      height: 32px;\n",
              "      padding: 0 0 0 0;\n",
              "      width: 32px;\n",
              "    }\n",
              "\n",
              "    .colab-df-convert:hover {\n",
              "      background-color: #E2EBFA;\n",
              "      box-shadow: 0px 1px 2px rgba(60, 64, 67, 0.3), 0px 1px 3px 1px rgba(60, 64, 67, 0.15);\n",
              "      fill: #174EA6;\n",
              "    }\n",
              "\n",
              "    [theme=dark] .colab-df-convert {\n",
              "      background-color: #3B4455;\n",
              "      fill: #D2E3FC;\n",
              "    }\n",
              "\n",
              "    [theme=dark] .colab-df-convert:hover {\n",
              "      background-color: #434B5C;\n",
              "      box-shadow: 0px 1px 3px 1px rgba(0, 0, 0, 0.15);\n",
              "      filter: drop-shadow(0px 1px 2px rgba(0, 0, 0, 0.3));\n",
              "      fill: #FFFFFF;\n",
              "    }\n",
              "  </style>\n",
              "\n",
              "      <script>\n",
              "        const buttonEl =\n",
              "          document.querySelector('#df-00e7526f-e1c9-4269-bf0e-9af8e8a78a91 button.colab-df-convert');\n",
              "        buttonEl.style.display =\n",
              "          google.colab.kernel.accessAllowed ? 'block' : 'none';\n",
              "\n",
              "        async function convertToInteractive(key) {\n",
              "          const element = document.querySelector('#df-00e7526f-e1c9-4269-bf0e-9af8e8a78a91');\n",
              "          const dataTable =\n",
              "            await google.colab.kernel.invokeFunction('convertToInteractive',\n",
              "                                                     [key], {});\n",
              "          if (!dataTable) return;\n",
              "\n",
              "          const docLinkHtml = 'Like what you see? Visit the ' +\n",
              "            '<a target=\"_blank\" href=https://colab.research.google.com/notebooks/data_table.ipynb>data table notebook</a>'\n",
              "            + ' to learn more about interactive tables.';\n",
              "          element.innerHTML = '';\n",
              "          dataTable['output_type'] = 'display_data';\n",
              "          await google.colab.output.renderOutput(dataTable, element);\n",
              "          const docLink = document.createElement('div');\n",
              "          docLink.innerHTML = docLinkHtml;\n",
              "          element.appendChild(docLink);\n",
              "        }\n",
              "      </script>\n",
              "    </div>\n",
              "  </div>\n",
              "  "
            ]
          },
          "metadata": {},
          "execution_count": 4
        }
      ]
    },
    {
      "cell_type": "code",
      "source": [
        "X = dummies_df[list(dummies_df.columns[3:])]\n",
        "\n",
        "y = dummies_df.PTS"
      ],
      "metadata": {
        "id": "UJgDhphyt58E"
      },
      "execution_count": 5,
      "outputs": []
    },
    {
      "cell_type": "code",
      "source": [
        "# Just for yuks\n",
        "#print(df.Pos.value_counts())\n",
        "sns.set(rc = {'figure.figsize':(15,8)})\n",
        "sns.barplot(data=df, x=\"Pos\", y=\"PTS\")"
      ],
      "metadata": {
        "colab": {
          "base_uri": "https://localhost:8080/",
          "height": 519
        },
        "id": "okPUEOQJPi2-",
        "outputId": "34a6994d-0ade-4591-80bc-33e53891dffb"
      },
      "execution_count": 6,
      "outputs": [
        {
          "output_type": "execute_result",
          "data": {
            "text/plain": [
              "<matplotlib.axes._subplots.AxesSubplot at 0x7ff4deeb6450>"
            ]
          },
          "metadata": {},
          "execution_count": 6
        },
        {
          "output_type": "display_data",
          "data": {
            "text/plain": [
              "<Figure size 1080x576 with 1 Axes>"
            ],
            "image/png": "[encoded data removed]"
          },
          "metadata": {}
        }
      ]
    },
    {
      "cell_type": "markdown",
      "source": [
        "**Define model type and fit**"
      ],
      "metadata": {
        "id": "VysONkDrPuD_"
      }
    },
    {
      "cell_type": "code",
      "source": [
        "# Step 1: define model\n",
        "lm = linear_model.LinearRegression()\n",
        "\n",
        "# Step 2: fit X to Y\n",
        "lm.fit(X, y)"
      ],
      "metadata": {
        "colab": {
          "base_uri": "https://localhost:8080/"
        },
        "id": "e_Fa-o95P0mu",
        "outputId": "31243bc4-a79c-4ee9-e044-04a8da1aca05"
      },
      "execution_count": 7,
      "outputs": [
        {
          "output_type": "execute_result",
          "data": {
            "text/plain": [
              "LinearRegression()"
            ]
          },
          "metadata": {},
          "execution_count": 7
        }
      ]
    },
    {
      "cell_type": "markdown",
      "source": [
        "**Results**"
      ],
      "metadata": {
        "id": "T2PXZQAkRJ6g"
      }
    },
    {
      "cell_type": "code",
      "source": [
        "print(\"coeff = \", lm.coef_, \"intercept = \", lm.intercept_)"
      ],
      "metadata": {
        "colab": {
          "base_uri": "https://localhost:8080/"
        },
        "id": "BmoYWVy_RQYk",
        "outputId": "346f11f7-6cd8-48f4-93a0-349a41012d47"
      },
      "execution_count": 8,
      "outputs": [
        {
          "output_type": "stream",
          "name": "stdout",
          "text": [
            "coeff =  [-110.31849911  -62.51975248  -53.33225695    0.85871554] intercept =  562.6973602161712\n"
          ]
        }
      ]
    },
    {
      "cell_type": "code",
      "source": [
        "Pos = [\"SG\", \"C\", \"PF\", \"PG\", \"SF\"]\n",
        "for i in range(5):\n",
        "  if i == 0:\n",
        "    print(\"For Position =\", Pos[i], \"==> Points scored prediction is\", lm.intercept_)\n",
        "  else:\n",
        "    print(\"For Position =\", Pos[i], \"==> Points scored prediction is\", lm.intercept_ + lm.coef_[i-1])"
      ],
      "metadata": {
        "colab": {
          "base_uri": "https://localhost:8080/"
        },
        "id": "_p1LTeqeRktg",
        "outputId": "e4438d94-ee0b-4636-af23-c7667a67d5e9"
      },
      "execution_count": 9,
      "outputs": [
        {
          "output_type": "stream",
          "name": "stdout",
          "text": [
            "For Position = SG ==> Points scored prediction is 562.6973602161712\n",
            "For Position = C ==> Points scored prediction is 452.3788611052742\n",
            "For Position = PF ==> Points scored prediction is 500.1776077325816\n",
            "For Position = PG ==> Points scored prediction is 509.3651032702238\n",
            "For Position = SF ==> Points scored prediction is 563.5560757608\n"
          ]
        }
      ]
    },
    {
      "cell_type": "code",
      "source": [
        "# ?????\n",
        "lm.predict([range(4)])"
      ],
      "metadata": {
        "colab": {
          "base_uri": "https://localhost:8080/"
        },
        "id": "pawLuXQd02YO",
        "outputId": "738b60c1-0625-465d-f306-44d157a59e3f"
      },
      "execution_count": 10,
      "outputs": [
        {
          "output_type": "execute_result",
          "data": {
            "text/plain": [
              "array([396.08924047])"
            ]
          },
          "metadata": {},
          "execution_count": 10
        }
      ]
    }
  ]
}