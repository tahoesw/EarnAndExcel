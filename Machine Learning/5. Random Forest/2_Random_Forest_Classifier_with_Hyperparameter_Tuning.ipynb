{
  "nbformat": 4,
  "nbformat_minor": 0,
  "metadata": {
    "colab": {
      "name": "2. Random Forest Classifier with Hyperparameter Tuning.ipynb",
      "provenance": [],
      "collapsed_sections": []
    },
    "kernelspec": {
      "name": "python3",
      "display_name": "Python 3"
    },
    "language_info": {
      "name": "python"
    }
  },
  "cells": [
    {
      "cell_type": "code",
      "execution_count": 9,
      "metadata": {
        "id": "VzU7zerEKk6H"
      },
      "outputs": [],
      "source": [
        "import numpy as np\n",
        "import pandas as pd\n",
        "import matplotlib.pyplot as plt\n",
        "import sklearn.model_selection as ms\n",
        "from sklearn.model_selection import train_test_split, StratifiedKFold, RandomizedSearchCV, GridSearchCV\n",
        "from sklearn import tree\n",
        "from sklearn import datasets\n",
        "from sklearn import linear_model\n",
        "from sklearn import ensemble\n",
        "from sklearn.linear_model import LogisticRegression\n",
        "from datetime import datetime\n",
        "from xgboost import XGBClassifier\n",
        "import warnings\n",
        "warnings.filterwarnings(\"ignore\")"
      ]
    },
    {
      "cell_type": "markdown",
      "source": [
        "**Read and clean data**"
      ],
      "metadata": {
        "id": "XQ0rM_TmPUl9"
      }
    },
    {
      "cell_type": "code",
      "source": [
        "df = pd.read_csv(\"titanic.csv\").dropna()\n",
        "\n",
        "X = df.drop([\"Name\", \"Survived\", \"Sex\"], axis = 1)\n",
        "\n",
        "# Transform 1st, 2nd, 3rd to 1, 2, 3\n",
        "X['PClass'] = pd.factorize(X['PClass'])[0] + 1\n",
        "\n",
        "y = df.Survived"
      ],
      "metadata": {
        "id": "7-BQ6JeRMR2m"
      },
      "execution_count": 10,
      "outputs": []
    },
    {
      "cell_type": "markdown",
      "source": [
        "**Split into train/test** "
      ],
      "metadata": {
        "id": "Q8nxy6HbPaBn"
      }
    },
    {
      "cell_type": "code",
      "source": [
        "X_train, X_test, y_train, y_test = train_test_split(X, y, test_size=0.2, random_state=0)\n"
      ],
      "metadata": {
        "id": "lOaqiNeyOwxU"
      },
      "execution_count": 11,
      "outputs": []
    },
    {
      "cell_type": "markdown",
      "source": [
        "**Define model type and fit**"
      ],
      "metadata": {
        "id": "VysONkDrPuD_"
      }
    },
    {
      "cell_type": "code",
      "source": [
        "rf_model = ensemble.RandomForestClassifier(random_state=1, n_estimators=200, n_jobs=-1)\n",
        "# print(rf_model)\n",
        "\n",
        "rf_model.fit(X_train, y_train)"
      ],
      "metadata": {
        "colab": {
          "base_uri": "https://localhost:8080/"
        },
        "id": "e_Fa-o95P0mu",
        "outputId": "374b8e44-7f97-42f7-85da-492040b7bc4e"
      },
      "execution_count": 12,
      "outputs": [
        {
          "output_type": "execute_result",
          "data": {
            "text/plain": [
              "RandomForestClassifier(n_estimators=200, n_jobs=-1, random_state=1)"
            ]
          },
          "metadata": {},
          "execution_count": 12
        }
      ]
    },
    {
      "cell_type": "markdown",
      "source": [
        "**Scoring**"
      ],
      "metadata": {
        "id": "T2PXZQAkRJ6g"
      }
    },
    {
      "cell_type": "code",
      "source": [
        "train_score = rf_model.score(X_train, y_train)\n",
        "train_error = 1 - train_score\n",
        "\n",
        "print(\"Score on data used in training =\", train_score, \"==>error =\", train_error)"
      ],
      "metadata": {
        "colab": {
          "base_uri": "https://localhost:8080/"
        },
        "id": "BmoYWVy_RQYk",
        "outputId": "92fbf6a6-4217-4e19-9adc-d8e9f5613369"
      },
      "execution_count": 13,
      "outputs": [
        {
          "output_type": "stream",
          "name": "stdout",
          "text": [
            "Score on data used in training = 0.8758278145695364 ==>error = 0.1241721854304636\n"
          ]
        }
      ]
    },
    {
      "cell_type": "code",
      "source": [
        "test_score = rf_model.score(X_test, y_test)\n",
        "test_error = 1 - test_score\n",
        "\n",
        "print(\"Score on test (unseen) data =\", test_score, \"==>error =\", test_error)"
      ],
      "metadata": {
        "colab": {
          "base_uri": "https://localhost:8080/"
        },
        "id": "_p1LTeqeRktg",
        "outputId": "97cd67e6-4114-41ca-82ae-ad317f869960"
      },
      "execution_count": 14,
      "outputs": [
        {
          "output_type": "stream",
          "name": "stdout",
          "text": [
            "Score on test (unseen) data = 0.7828947368421053 ==>error = 0.2171052631578947\n"
          ]
        }
      ]
    },
    {
      "cell_type": "markdown",
      "source": [
        "**Hyperparameter Tuning**"
      ],
      "metadata": {
        "id": "fpGozMHvV_Pu"
      }
    },
    {
      "cell_type": "code",
      "source": [
        "# This can take long 'cause runs down a lot of paths\n",
        "grid_param_forest = {\"criterion\" : [\"gini\", \"entropy\"],\n",
        "                     \"max_depth\" : range(1, 5),\n",
        "                     \"n_estimators\" : range(10, 300, 20),\n",
        "                     \"max_features\" : range(1, len(df.columns))}\n",
        "\n",
        "print(str(datetime.now()))\n",
        "grid_search_tree = ms.GridSearchCV(rf_model,\n",
        "                                   grid_param_forest,\n",
        "                                   cv=3,\n",
        "                                   n_jobs=-1,\n",
        "                                   verbose=True,\n",
        "#                                   random_state=1,\n",
        "                                   scoring=\"accuracy\").fit(X_train, y_train)\n",
        "print(str(datetime.now()))\n",
        "\n",
        "print(\"Best parameters:\", grid_search_tree.best_params_,\n",
        "      \"\\nBest Score:\", grid_search_tree.best_score_)"
      ],
      "metadata": {
        "colab": {
          "base_uri": "https://localhost:8080/"
        },
        "id": "NzyAhnunWEae",
        "outputId": "f531e116-2b7b-4e52-e4f3-99338648e5ed"
      },
      "execution_count": 15,
      "outputs": [
        {
          "output_type": "stream",
          "name": "stdout",
          "text": [
            "2022-08-20 22:39:19.511648\n",
            "Fitting 3 folds for each of 600 candidates, totalling 1800 fits\n",
            "2022-08-20 22:44:55.025298\n",
            "Best parameters: {'criterion': 'gini', 'max_depth': 2, 'max_features': 1, 'n_estimators': 210} \n",
            "Best Score: 0.8162241597294058\n"
          ]
        }
      ]
    },
    {
      "cell_type": "code",
      "source": [
        "grid_train_score = grid_search_tree.best_estimator_.score(X_train, y_train)\n",
        "grid_train_error = 1 - grid_train_score\n",
        "\n",
        "print(\"Best estimator score on data used in training =\", grid_train_score, \"==>error =\", grid_train_error)\n",
        "\n",
        "grid_test_score = grid_search_tree.best_estimator_.score(X_test, y_test)\n",
        "grid_test_error = 1 - grid_test_score\n",
        "\n",
        "print(\"Best estimator score on test (unseen) data =\", grid_test_score, \"==>error =\", grid_test_error)"
      ],
      "metadata": {
        "colab": {
          "base_uri": "https://localhost:8080/"
        },
        "id": "x1EaDyJAc-18",
        "outputId": "20e811fc-150a-4446-917d-9aa69eea6463"
      },
      "execution_count": 16,
      "outputs": [
        {
          "output_type": "stream",
          "name": "stdout",
          "text": [
            "Best estimator score on data used in training = 0.8195364238410596 ==>error = 0.18046357615894038\n",
            "Best estimator score on test (unseen) data = 0.8092105263157895 ==>error = 0.1907894736842105\n"
          ]
        }
      ]
    },
    {
      "cell_type": "markdown",
      "source": [
        "**Error on test data has decreased by over 2.5% - though this does fluctuate with each run**\n",
        "\n",
        "**Note: Not as good as DT with Hyperparameter Tuning**"
      ],
      "metadata": {
        "id": "QUb7pGezecGY"
      }
    }
  ]
}