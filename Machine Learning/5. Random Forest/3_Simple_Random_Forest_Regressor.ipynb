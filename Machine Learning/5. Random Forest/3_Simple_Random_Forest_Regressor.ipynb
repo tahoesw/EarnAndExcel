{
  "nbformat": 4,
  "nbformat_minor": 0,
  "metadata": {
    "colab": {
      "name": "3. Simple Random Forest Regressor.ipynb",
      "provenance": [],
      "collapsed_sections": []
    },
    "kernelspec": {
      "name": "python3",
      "display_name": "Python 3"
    },
    "language_info": {
      "name": "python"
    }
  },
  "cells": [
    {
      "cell_type": "code",
      "execution_count": 1,
      "metadata": {
        "id": "VzU7zerEKk6H"
      },
      "outputs": [],
      "source": [
        "import numpy as np\n",
        "import pandas as pd\n",
        "import matplotlib.pyplot as plt\n",
        "import sklearn.model_selection as ms\n",
        "from sklearn.model_selection import train_test_split, StratifiedKFold, RandomizedSearchCV, GridSearchCV\n",
        "from sklearn import tree\n",
        "from sklearn import datasets\n",
        "from sklearn import linear_model\n",
        "from sklearn import ensemble\n",
        "from sklearn.linear_model import LogisticRegression\n",
        "from datetime import datetime\n",
        "from sklearn.datasets import load_iris\n",
        "from xgboost import XGBClassifier\n",
        "import warnings\n",
        "warnings.filterwarnings(\"ignore\")"
      ]
    },
    {
      "cell_type": "markdown",
      "source": [
        "**Read and clean data**"
      ],
      "metadata": {
        "id": "XQ0rM_TmPUl9"
      }
    },
    {
      "cell_type": "code",
      "source": [
        "iris = load_iris()\n",
        "df = pd.DataFrame(data=np.c_[iris[\"data\"], iris[\"target\"]],\n",
        "                     columns=iris[\"feature_names\"] + [\"target\"])\n",
        "\n",
        "# Inputs: sepal length (cm),\tsepal width (cm),\tpetal length (cm)\n",
        "X = df[df.columns[0:3]]\n",
        "\n",
        "# Output (dependent var) - in series format\n",
        "y = df['petal width (cm)']"
      ],
      "metadata": {
        "id": "7-BQ6JeRMR2m"
      },
      "execution_count": 2,
      "outputs": []
    },
    {
      "cell_type": "markdown",
      "source": [
        "**Split into train/test** "
      ],
      "metadata": {
        "id": "Q8nxy6HbPaBn"
      }
    },
    {
      "cell_type": "code",
      "source": [
        "X_train, X_test, y_train, y_test = train_test_split(X, y, test_size=0.2, random_state=0)\n"
      ],
      "metadata": {
        "id": "lOaqiNeyOwxU"
      },
      "execution_count": 3,
      "outputs": []
    },
    {
      "cell_type": "markdown",
      "source": [
        "**Define model type and fit**"
      ],
      "metadata": {
        "id": "VysONkDrPuD_"
      }
    },
    {
      "cell_type": "code",
      "source": [
        "rf_model = ensemble.RandomForestRegressor(random_state=1, n_estimators=200, n_jobs=-1)\n",
        "# print(rf_model)\n",
        "\n",
        "rf_model.fit(X_train, y_train)"
      ],
      "metadata": {
        "colab": {
          "base_uri": "https://localhost:8080/"
        },
        "id": "e_Fa-o95P0mu",
        "outputId": "324043d3-3e10-4911-e054-9a9cf6de350c"
      },
      "execution_count": 4,
      "outputs": [
        {
          "output_type": "execute_result",
          "data": {
            "text/plain": [
              "RandomForestRegressor(n_estimators=200, n_jobs=-1, random_state=1)"
            ]
          },
          "metadata": {},
          "execution_count": 4
        }
      ]
    },
    {
      "cell_type": "markdown",
      "source": [
        "**Scoring**"
      ],
      "metadata": {
        "id": "T2PXZQAkRJ6g"
      }
    },
    {
      "cell_type": "code",
      "source": [
        "train_score = rf_model.score(X_train, y_train)\n",
        "train_error = 1 - train_score\n",
        "\n",
        "print(\"Score on data used in training =\", train_score, \"==>error =\", train_error)"
      ],
      "metadata": {
        "colab": {
          "base_uri": "https://localhost:8080/"
        },
        "id": "BmoYWVy_RQYk",
        "outputId": "8905e5d4-0657-4e73-d43a-cd3d98ec51af"
      },
      "execution_count": 5,
      "outputs": [
        {
          "output_type": "stream",
          "name": "stdout",
          "text": [
            "Score on data used in training = 0.9904994652036516 ==>error = 0.009500534796348381\n"
          ]
        }
      ]
    },
    {
      "cell_type": "code",
      "source": [
        "test_score = rf_model.score(X_test, y_test)\n",
        "test_error = 1 - test_score\n",
        "\n",
        "print(\"Score on test (unseen) data =\", test_score, \"==>error =\", test_error)"
      ],
      "metadata": {
        "colab": {
          "base_uri": "https://localhost:8080/"
        },
        "id": "_p1LTeqeRktg",
        "outputId": "ba734698-ccfc-4acd-cadb-deadaa001a47"
      },
      "execution_count": 6,
      "outputs": [
        {
          "output_type": "stream",
          "name": "stdout",
          "text": [
            "Score on test (unseen) data = 0.9298913978317376 ==>error = 0.07010860216826242\n"
          ]
        }
      ]
    },
    {
      "cell_type": "markdown",
      "source": [
        "**RF shows about 1.5% improvement on DT Classifer**"
      ],
      "metadata": {
        "id": "QJrEiBrae5Kv"
      }
    },
    {
      "cell_type": "code",
      "source": [
        "# tree_train_score = tree_model.score(X_train, y_train)\n",
        "# tree_train_error = 1 - tree_train_score\n",
        "# print(\"Score on data used in training =\", tree_train_score, \"==>error =\", tree_train_error)\n",
        "\n",
        "# tree_test_score = tree_model.score(X_test, y_test)\n",
        "# tree_test_error = 1 - tree_test_score\n",
        "# print(\"Score on test (unseen) data =\", tree_test_score, \"==>error =\", tree_test_error)"
      ],
      "metadata": {
        "id": "XWu7ZRGJfBe-"
      },
      "execution_count": 7,
      "outputs": []
    }
  ]
}