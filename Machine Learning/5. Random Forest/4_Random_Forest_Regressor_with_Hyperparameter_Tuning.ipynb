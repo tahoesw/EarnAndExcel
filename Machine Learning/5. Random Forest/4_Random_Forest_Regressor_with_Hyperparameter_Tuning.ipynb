{
  "nbformat": 4,
  "nbformat_minor": 0,
  "metadata": {
    "colab": {
      "name": "4. Random Forest Regressor with Hyperparameter Tuning.ipynb",
      "provenance": [],
      "collapsed_sections": []
    },
    "kernelspec": {
      "name": "python3",
      "display_name": "Python 3"
    },
    "language_info": {
      "name": "python"
    }
  },
  "cells": [
    {
      "cell_type": "code",
      "execution_count": 1,
      "metadata": {
        "id": "VzU7zerEKk6H"
      },
      "outputs": [],
      "source": [
        "import numpy as np\n",
        "import pandas as pd\n",
        "import matplotlib.pyplot as plt\n",
        "import sklearn.model_selection as ms\n",
        "from sklearn.model_selection import train_test_split, StratifiedKFold, RandomizedSearchCV, GridSearchCV\n",
        "from sklearn import tree\n",
        "from sklearn import datasets\n",
        "from sklearn import linear_model\n",
        "from sklearn import ensemble\n",
        "from sklearn.linear_model import LogisticRegression\n",
        "from datetime import datetime\n",
        "from sklearn.datasets import load_iris\n",
        "from xgboost import XGBClassifier\n",
        "import warnings\n",
        "warnings.filterwarnings(\"ignore\")"
      ]
    },
    {
      "cell_type": "markdown",
      "source": [
        "**Read and clean data**"
      ],
      "metadata": {
        "id": "XQ0rM_TmPUl9"
      }
    },
    {
      "cell_type": "code",
      "source": [
        "iris = load_iris()\n",
        "df = pd.DataFrame(data=np.c_[iris[\"data\"], iris[\"target\"]],\n",
        "                     columns=iris[\"feature_names\"] + [\"target\"])\n",
        "\n",
        "# Inputs: sepal length (cm),\tsepal width (cm),\tpetal length (cm)\n",
        "X = df[df.columns[0:3]]\n",
        "\n",
        "# Output (dependent var) - in series format\n",
        "y = df['petal width (cm)']"
      ],
      "metadata": {
        "id": "7-BQ6JeRMR2m"
      },
      "execution_count": 2,
      "outputs": []
    },
    {
      "cell_type": "markdown",
      "source": [
        "**Split into train/test** "
      ],
      "metadata": {
        "id": "Q8nxy6HbPaBn"
      }
    },
    {
      "cell_type": "code",
      "source": [
        "X_train, X_test, y_train, y_test = train_test_split(X, y, test_size=0.2, random_state=0)\n"
      ],
      "metadata": {
        "id": "lOaqiNeyOwxU"
      },
      "execution_count": 3,
      "outputs": []
    },
    {
      "cell_type": "markdown",
      "source": [
        "**Define model type and fit**"
      ],
      "metadata": {
        "id": "VysONkDrPuD_"
      }
    },
    {
      "cell_type": "code",
      "source": [
        "rf_model = ensemble.RandomForestRegressor(random_state=1, n_estimators=200, n_jobs=-1)\n",
        "# print(rf_model)\n",
        "\n",
        "rf_model.fit(X_train, y_train)"
      ],
      "metadata": {
        "colab": {
          "base_uri": "https://localhost:8080/"
        },
        "id": "e_Fa-o95P0mu",
        "outputId": "cd841145-1595-44ba-b33f-b04bf4520a5e"
      },
      "execution_count": 4,
      "outputs": [
        {
          "output_type": "execute_result",
          "data": {
            "text/plain": [
              "RandomForestRegressor(n_estimators=200, n_jobs=-1, random_state=1)"
            ]
          },
          "metadata": {},
          "execution_count": 4
        }
      ]
    },
    {
      "cell_type": "markdown",
      "source": [
        "**Scoring**"
      ],
      "metadata": {
        "id": "T2PXZQAkRJ6g"
      }
    },
    {
      "cell_type": "code",
      "source": [
        "train_score = rf_model.score(X_train, y_train)\n",
        "train_error = 1 - train_score\n",
        "\n",
        "print(\"Score on data used in training =\", train_score, \"==>error =\", train_error)"
      ],
      "metadata": {
        "colab": {
          "base_uri": "https://localhost:8080/"
        },
        "id": "BmoYWVy_RQYk",
        "outputId": "5d7ff633-d146-42bc-ffcf-52d5a8b198ec"
      },
      "execution_count": 5,
      "outputs": [
        {
          "output_type": "stream",
          "name": "stdout",
          "text": [
            "Score on data used in training = 0.9904994652036517 ==>error = 0.00950053479634827\n"
          ]
        }
      ]
    },
    {
      "cell_type": "code",
      "source": [
        "test_score = rf_model.score(X_test, y_test)\n",
        "test_error = 1 - test_score\n",
        "\n",
        "print(\"Score on test (unseen) data =\", test_score, \"==>error =\", test_error)"
      ],
      "metadata": {
        "colab": {
          "base_uri": "https://localhost:8080/"
        },
        "id": "_p1LTeqeRktg",
        "outputId": "172ec3df-0b85-4ade-a1f4-b8e6109e9b5a"
      },
      "execution_count": 6,
      "outputs": [
        {
          "output_type": "stream",
          "name": "stdout",
          "text": [
            "Score on test (unseen) data = 0.9298913978317376 ==>error = 0.07010860216826242\n"
          ]
        }
      ]
    },
    {
      "cell_type": "markdown",
      "source": [
        "**Hyperparameter Tuning**"
      ],
      "metadata": {
        "id": "9zg8cndoDbKW"
      }
    },
    {
      "cell_type": "code",
      "source": [
        "# This can take long 'cause runs down a lot of paths\n",
        "grid_param_forest = {\"max_depth\" : range(1, 5),\n",
        "                     \"n_estimators\" : range(10, 300, 20),\n",
        "                     \"max_features\" : range(1, len(df.columns))}\n",
        "\n",
        "print(str(datetime.now()))\n",
        "grid_search_forest = ms.GridSearchCV(rf_model,\n",
        "                                    grid_param_forest,\n",
        "                                    cv=3,\n",
        "                                    n_jobs=-1,\n",
        "                                    verbose=True,\n",
        "                                    scoring=\"r2\").fit(X_train, y_train)\n",
        "print(str(datetime.now()))\n",
        "\n",
        "print(\"Best parameters:\", grid_search_forest.best_params_,\n",
        "      \"\\nBest Score:\", grid_search_forest.best_score_)"
      ],
      "metadata": {
        "colab": {
          "base_uri": "https://localhost:8080/"
        },
        "id": "a0FvuEwUDdNH",
        "outputId": "c0b9dca8-04ce-4c71-f5be-1f431256f6eb"
      },
      "execution_count": 7,
      "outputs": [
        {
          "output_type": "stream",
          "name": "stdout",
          "text": [
            "2022-08-20 23:54:19.320923\n",
            "Fitting 3 folds for each of 240 candidates, totalling 720 fits\n",
            "2022-08-20 23:56:46.009964\n",
            "Best parameters: {'max_depth': 3, 'max_features': 3, 'n_estimators': 30} \n",
            "Best Score: 0.9424032781851945\n"
          ]
        }
      ]
    },
    {
      "cell_type": "code",
      "source": [
        "grid_train_score = grid_search_forest.best_estimator_.score(X_train, y_train)\n",
        "grid_train_error = 1 - grid_train_score\n",
        "\n",
        "print(\"Best estimator score on data used in training =\", grid_train_score, \"==>error =\", grid_train_error)\n",
        "\n",
        "grid_test_score = grid_search_forest.best_estimator_.score(X_test, y_test)\n",
        "grid_test_error = 1 - grid_test_score\n",
        "\n",
        "print(\"Best estimator score on test (unseen) data =\", grid_test_score, \"==>error =\", grid_test_error)"
      ],
      "metadata": {
        "colab": {
          "base_uri": "https://localhost:8080/"
        },
        "id": "TeIam66dEvub",
        "outputId": "3e2590ae-857d-483b-b235-ced72e9bcde4"
      },
      "execution_count": 8,
      "outputs": [
        {
          "output_type": "stream",
          "name": "stdout",
          "text": [
            "Best estimator score on data used in training = 0.9623596462965536 ==>error = 0.03764035370344643\n",
            "Best estimator score on test (unseen) data = 0.9112091772954078 ==>error = 0.08879082270459215\n"
          ]
        }
      ]
    },
    {
      "cell_type": "markdown",
      "source": [
        "**Original model comes out best ==> may be due to small dataset**"
      ],
      "metadata": {
        "id": "Q9-Z0aH_FEMw"
      }
    }
  ]
}